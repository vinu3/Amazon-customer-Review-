{
  "nbformat": 4,
  "nbformat_minor": 0,
  "metadata": {
    "colab": {
      "name": "Github_vinay Amazon_review.ipynb",
      "version": "0.3.2",
      "provenance": [],
      "collapsed_sections": [],
      "toc_visible": true
    },
    "kernelspec": {
      "name": "python3",
      "display_name": "Python 3"
    }
  },
  "cells": [
    {
      "metadata": {
        "id": "aB36wNOm28hx",
        "colab_type": "code",
        "colab": {}
      },
      "cell_type": "code",
      "source": [
        "#Python Project"
      ],
      "execution_count": 0,
      "outputs": []
    },
    {
      "metadata": {
        "id": "Vz_JN2qU37gm",
        "colab_type": "text"
      },
      "cell_type": "markdown",
      "source": [
        "# **Author**\n",
        "\n",
        "**Team 03**\n",
        "\n",
        "**Team Members:**\n",
        "\n",
        "\n",
        "\n",
        "*   Radhika Malviya\n",
        "*   Silky Shah\n",
        "*   Vinay Vihari Lakamsani\n",
        "*   Janani Vasudevan\n",
        "*   Xiaoxu Xing\n",
        "\n"
      ]
    },
    {
      "metadata": {
        "id": "zZzMXDX85Mgl",
        "colab_type": "text"
      },
      "cell_type": "markdown",
      "source": [
        "# **About the Data**\n",
        "\n",
        "*  Presentation link:\n",
        "*  https://drive.google.com/open?id=19KtE8uvvjEjoyhwGufBpRutlkuIwpaDN\n",
        "\n",
        "\n",
        "**Data**\n",
        "*   https://www.kaggle.com/datafiniti/consumer-reviews-of-amazon-products\n",
        "\n",
        "*   This is a list of over 34,000 consumer reviews for Amazon products like the Kindle, Fire TV Stick, and more provided by Datafiniti's Product Database. The dataset includes basic product information, rating, review text, and more for each product.\n",
        "\n",
        "*  we have 21 attributes and 34.7K records pulled using Datafiniti’s Product API\n",
        "\n",
        "\n"
      ]
    },
    {
      "metadata": {
        "id": "3C1csiaA8XuW",
        "colab_type": "text"
      },
      "cell_type": "markdown",
      "source": [
        "# **Importing Libraries**"
      ]
    },
    {
      "metadata": {
        "id": "BPdd99-S8MRH",
        "colab_type": "code",
        "colab": {}
      },
      "cell_type": "code",
      "source": [
        "#importing pandas as part of handling the dataframe\n",
        "import pandas as pd\n",
        "\n",
        "# importing numpy : used for array,matrix and other data types\n",
        "import numpy as np\n",
        "\n",
        "#used to read excel filess\n",
        "from pandas import read_excel"
      ],
      "execution_count": 0,
      "outputs": []
    },
    {
      "metadata": {
        "id": "IiaRABK-7D-0",
        "colab_type": "text"
      },
      "cell_type": "markdown",
      "source": [
        "# **Loading the Dataset**\n",
        "\n",
        "*  sharable link for dataset \n",
        "\n",
        "*  https://drive.google.com/uc?export=download&id=1k8rHxOQ7StKMuVKadsEEqy-YkzH0eyA5"
      ]
    },
    {
      "metadata": {
        "id": "fkGDTQ8a98Dx",
        "colab_type": "code",
        "colab": {}
      },
      "cell_type": "code",
      "source": [
        "#uploading files to google co lab\n",
        "#from google.colab import files\n",
        "#uploaded = files.upload()\n"
      ],
      "execution_count": 0,
      "outputs": []
    },
    {
      "metadata": {
        "id": "WiV1YCbV9_nH",
        "colab_type": "code",
        "colab": {}
      },
      "cell_type": "code",
      "source": [
        "#df = pd.read_csv(\"1429_1.csv\",low_memory=False)\n",
        "#df.head()"
      ],
      "execution_count": 0,
      "outputs": []
    },
    {
      "metadata": {
        "id": "JNgk5LGcUIYr",
        "colab_type": "text"
      },
      "cell_type": "markdown",
      "source": [
        "sharable link\n",
        "*  https://drive.google.com/uc?export=download&id=1k8rHxOQ7StKMuVKadsEEqy-YkzH0eyA5"
      ]
    },
    {
      "metadata": {
        "id": "gSlwGMKu57b3",
        "colab_type": "code",
        "colab": {}
      },
      "cell_type": "code",
      "source": [
        "url = \"https://drive.google.com/uc?export=download&id=1k8rHxOQ7StKMuVKadsEEqy-YkzH0eyA5\"\n"
      ],
      "execution_count": 0,
      "outputs": []
    },
    {
      "metadata": {
        "id": "0N4oDu_eOfxo",
        "colab_type": "code",
        "outputId": "8a181a35-a54c-454c-9d14-11427cc165df",
        "colab": {
          "base_uri": "https://localhost:8080/",
          "height": 72
        }
      },
      "cell_type": "code",
      "source": [
        "df =  pd.read_csv(url)\n",
        "# https://drive.google.com/open?id=1k8rHxOQ7StKMuVKadsEEqy-YkzH0eyA5\n"
      ],
      "execution_count": 0,
      "outputs": [
        {
          "output_type": "stream",
          "text": [
            "/usr/local/lib/python3.6/dist-packages/IPython/core/interactiveshell.py:2718: DtypeWarning: Columns (1,10) have mixed types. Specify dtype option on import or set low_memory=False.\n",
            "  interactivity=interactivity, compiler=compiler, result=result)\n"
          ],
          "name": "stderr"
        }
      ]
    },
    {
      "metadata": {
        "id": "M4NBxbpgor3H",
        "colab_type": "code",
        "outputId": "8a976c38-a184-4398-907e-7b7ce2ef180b",
        "colab": {
          "base_uri": "https://localhost:8080/",
          "height": 771
        }
      },
      "cell_type": "code",
      "source": [
        "reviews = df.copy()\n",
        "reviews.head()\n"
      ],
      "execution_count": 0,
      "outputs": [
        {
          "output_type": "execute_result",
          "data": {
            "text/html": [
              "<div>\n",
              "<style scoped>\n",
              "    .dataframe tbody tr th:only-of-type {\n",
              "        vertical-align: middle;\n",
              "    }\n",
              "\n",
              "    .dataframe tbody tr th {\n",
              "        vertical-align: top;\n",
              "    }\n",
              "\n",
              "    .dataframe thead th {\n",
              "        text-align: right;\n",
              "    }\n",
              "</style>\n",
              "<table border=\"1\" class=\"dataframe\">\n",
              "  <thead>\n",
              "    <tr style=\"text-align: right;\">\n",
              "      <th></th>\n",
              "      <th>id</th>\n",
              "      <th>name</th>\n",
              "      <th>asins</th>\n",
              "      <th>brand</th>\n",
              "      <th>categories</th>\n",
              "      <th>keys</th>\n",
              "      <th>manufacturer</th>\n",
              "      <th>reviews.date</th>\n",
              "      <th>reviews.dateAdded</th>\n",
              "      <th>reviews.dateSeen</th>\n",
              "      <th>...</th>\n",
              "      <th>reviews.doRecommend</th>\n",
              "      <th>reviews.id</th>\n",
              "      <th>reviews.numHelpful</th>\n",
              "      <th>reviews.rating</th>\n",
              "      <th>reviews.sourceURLs</th>\n",
              "      <th>reviews.text</th>\n",
              "      <th>reviews.title</th>\n",
              "      <th>reviews.userCity</th>\n",
              "      <th>reviews.userProvince</th>\n",
              "      <th>reviews.username</th>\n",
              "    </tr>\n",
              "  </thead>\n",
              "  <tbody>\n",
              "    <tr>\n",
              "      <th>0</th>\n",
              "      <td>AVqkIhwDv8e3D1O-lebb</td>\n",
              "      <td>All-New Fire HD 8 Tablet, 8 HD Display, Wi-Fi,...</td>\n",
              "      <td>B01AHB9CN2</td>\n",
              "      <td>Amazon</td>\n",
              "      <td>Electronics,iPad &amp; Tablets,All Tablets,Fire Ta...</td>\n",
              "      <td>841667104676,amazon/53004484,amazon/b01ahb9cn2...</td>\n",
              "      <td>Amazon</td>\n",
              "      <td>2017-01-13T00:00:00.000Z</td>\n",
              "      <td>2017-07-03T23:33:15Z</td>\n",
              "      <td>2017-06-07T09:04:00.000Z,2017-04-30T00:45:00.000Z</td>\n",
              "      <td>...</td>\n",
              "      <td>True</td>\n",
              "      <td>NaN</td>\n",
              "      <td>0.0</td>\n",
              "      <td>5.0</td>\n",
              "      <td>http://reviews.bestbuy.com/3545/5620406/review...</td>\n",
              "      <td>This product so far has not disappointed. My c...</td>\n",
              "      <td>Kindle</td>\n",
              "      <td>NaN</td>\n",
              "      <td>NaN</td>\n",
              "      <td>Adapter</td>\n",
              "    </tr>\n",
              "    <tr>\n",
              "      <th>1</th>\n",
              "      <td>AVqkIhwDv8e3D1O-lebb</td>\n",
              "      <td>All-New Fire HD 8 Tablet, 8 HD Display, Wi-Fi,...</td>\n",
              "      <td>B01AHB9CN2</td>\n",
              "      <td>Amazon</td>\n",
              "      <td>Electronics,iPad &amp; Tablets,All Tablets,Fire Ta...</td>\n",
              "      <td>841667104676,amazon/53004484,amazon/b01ahb9cn2...</td>\n",
              "      <td>Amazon</td>\n",
              "      <td>2017-01-13T00:00:00.000Z</td>\n",
              "      <td>2017-07-03T23:33:15Z</td>\n",
              "      <td>2017-06-07T09:04:00.000Z,2017-04-30T00:45:00.000Z</td>\n",
              "      <td>...</td>\n",
              "      <td>True</td>\n",
              "      <td>NaN</td>\n",
              "      <td>0.0</td>\n",
              "      <td>5.0</td>\n",
              "      <td>http://reviews.bestbuy.com/3545/5620406/review...</td>\n",
              "      <td>great for beginner or experienced person. Boug...</td>\n",
              "      <td>very fast</td>\n",
              "      <td>NaN</td>\n",
              "      <td>NaN</td>\n",
              "      <td>truman</td>\n",
              "    </tr>\n",
              "    <tr>\n",
              "      <th>2</th>\n",
              "      <td>AVqkIhwDv8e3D1O-lebb</td>\n",
              "      <td>All-New Fire HD 8 Tablet, 8 HD Display, Wi-Fi,...</td>\n",
              "      <td>B01AHB9CN2</td>\n",
              "      <td>Amazon</td>\n",
              "      <td>Electronics,iPad &amp; Tablets,All Tablets,Fire Ta...</td>\n",
              "      <td>841667104676,amazon/53004484,amazon/b01ahb9cn2...</td>\n",
              "      <td>Amazon</td>\n",
              "      <td>2017-01-13T00:00:00.000Z</td>\n",
              "      <td>2017-07-03T23:33:15Z</td>\n",
              "      <td>2017-06-07T09:04:00.000Z,2017-04-30T00:45:00.000Z</td>\n",
              "      <td>...</td>\n",
              "      <td>True</td>\n",
              "      <td>NaN</td>\n",
              "      <td>0.0</td>\n",
              "      <td>5.0</td>\n",
              "      <td>http://reviews.bestbuy.com/3545/5620406/review...</td>\n",
              "      <td>Inexpensive tablet for him to use and learn on...</td>\n",
              "      <td>Beginner tablet for our 9 year old son.</td>\n",
              "      <td>NaN</td>\n",
              "      <td>NaN</td>\n",
              "      <td>DaveZ</td>\n",
              "    </tr>\n",
              "    <tr>\n",
              "      <th>3</th>\n",
              "      <td>AVqkIhwDv8e3D1O-lebb</td>\n",
              "      <td>All-New Fire HD 8 Tablet, 8 HD Display, Wi-Fi,...</td>\n",
              "      <td>B01AHB9CN2</td>\n",
              "      <td>Amazon</td>\n",
              "      <td>Electronics,iPad &amp; Tablets,All Tablets,Fire Ta...</td>\n",
              "      <td>841667104676,amazon/53004484,amazon/b01ahb9cn2...</td>\n",
              "      <td>Amazon</td>\n",
              "      <td>2017-01-13T00:00:00.000Z</td>\n",
              "      <td>2017-07-03T23:33:15Z</td>\n",
              "      <td>2017-06-07T09:04:00.000Z,2017-04-30T00:45:00.000Z</td>\n",
              "      <td>...</td>\n",
              "      <td>True</td>\n",
              "      <td>NaN</td>\n",
              "      <td>0.0</td>\n",
              "      <td>4.0</td>\n",
              "      <td>http://reviews.bestbuy.com/3545/5620406/review...</td>\n",
              "      <td>I've had my Fire HD 8 two weeks now and I love...</td>\n",
              "      <td>Good!!!</td>\n",
              "      <td>NaN</td>\n",
              "      <td>NaN</td>\n",
              "      <td>Shacks</td>\n",
              "    </tr>\n",
              "    <tr>\n",
              "      <th>4</th>\n",
              "      <td>AVqkIhwDv8e3D1O-lebb</td>\n",
              "      <td>All-New Fire HD 8 Tablet, 8 HD Display, Wi-Fi,...</td>\n",
              "      <td>B01AHB9CN2</td>\n",
              "      <td>Amazon</td>\n",
              "      <td>Electronics,iPad &amp; Tablets,All Tablets,Fire Ta...</td>\n",
              "      <td>841667104676,amazon/53004484,amazon/b01ahb9cn2...</td>\n",
              "      <td>Amazon</td>\n",
              "      <td>2017-01-12T00:00:00.000Z</td>\n",
              "      <td>2017-07-03T23:33:15Z</td>\n",
              "      <td>2017-06-07T09:04:00.000Z,2017-04-30T00:45:00.000Z</td>\n",
              "      <td>...</td>\n",
              "      <td>True</td>\n",
              "      <td>NaN</td>\n",
              "      <td>0.0</td>\n",
              "      <td>5.0</td>\n",
              "      <td>http://reviews.bestbuy.com/3545/5620406/review...</td>\n",
              "      <td>I bought this for my grand daughter when she c...</td>\n",
              "      <td>Fantastic Tablet for kids</td>\n",
              "      <td>NaN</td>\n",
              "      <td>NaN</td>\n",
              "      <td>explore42</td>\n",
              "    </tr>\n",
              "  </tbody>\n",
              "</table>\n",
              "<p>5 rows × 21 columns</p>\n",
              "</div>"
            ],
            "text/plain": [
              "                     id                                               name  \\\n",
              "0  AVqkIhwDv8e3D1O-lebb  All-New Fire HD 8 Tablet, 8 HD Display, Wi-Fi,...   \n",
              "1  AVqkIhwDv8e3D1O-lebb  All-New Fire HD 8 Tablet, 8 HD Display, Wi-Fi,...   \n",
              "2  AVqkIhwDv8e3D1O-lebb  All-New Fire HD 8 Tablet, 8 HD Display, Wi-Fi,...   \n",
              "3  AVqkIhwDv8e3D1O-lebb  All-New Fire HD 8 Tablet, 8 HD Display, Wi-Fi,...   \n",
              "4  AVqkIhwDv8e3D1O-lebb  All-New Fire HD 8 Tablet, 8 HD Display, Wi-Fi,...   \n",
              "\n",
              "        asins   brand                                         categories  \\\n",
              "0  B01AHB9CN2  Amazon  Electronics,iPad & Tablets,All Tablets,Fire Ta...   \n",
              "1  B01AHB9CN2  Amazon  Electronics,iPad & Tablets,All Tablets,Fire Ta...   \n",
              "2  B01AHB9CN2  Amazon  Electronics,iPad & Tablets,All Tablets,Fire Ta...   \n",
              "3  B01AHB9CN2  Amazon  Electronics,iPad & Tablets,All Tablets,Fire Ta...   \n",
              "4  B01AHB9CN2  Amazon  Electronics,iPad & Tablets,All Tablets,Fire Ta...   \n",
              "\n",
              "                                                keys manufacturer  \\\n",
              "0  841667104676,amazon/53004484,amazon/b01ahb9cn2...       Amazon   \n",
              "1  841667104676,amazon/53004484,amazon/b01ahb9cn2...       Amazon   \n",
              "2  841667104676,amazon/53004484,amazon/b01ahb9cn2...       Amazon   \n",
              "3  841667104676,amazon/53004484,amazon/b01ahb9cn2...       Amazon   \n",
              "4  841667104676,amazon/53004484,amazon/b01ahb9cn2...       Amazon   \n",
              "\n",
              "               reviews.date     reviews.dateAdded  \\\n",
              "0  2017-01-13T00:00:00.000Z  2017-07-03T23:33:15Z   \n",
              "1  2017-01-13T00:00:00.000Z  2017-07-03T23:33:15Z   \n",
              "2  2017-01-13T00:00:00.000Z  2017-07-03T23:33:15Z   \n",
              "3  2017-01-13T00:00:00.000Z  2017-07-03T23:33:15Z   \n",
              "4  2017-01-12T00:00:00.000Z  2017-07-03T23:33:15Z   \n",
              "\n",
              "                                    reviews.dateSeen        ...         \\\n",
              "0  2017-06-07T09:04:00.000Z,2017-04-30T00:45:00.000Z        ...          \n",
              "1  2017-06-07T09:04:00.000Z,2017-04-30T00:45:00.000Z        ...          \n",
              "2  2017-06-07T09:04:00.000Z,2017-04-30T00:45:00.000Z        ...          \n",
              "3  2017-06-07T09:04:00.000Z,2017-04-30T00:45:00.000Z        ...          \n",
              "4  2017-06-07T09:04:00.000Z,2017-04-30T00:45:00.000Z        ...          \n",
              "\n",
              "  reviews.doRecommend reviews.id  reviews.numHelpful  reviews.rating  \\\n",
              "0                True        NaN                 0.0             5.0   \n",
              "1                True        NaN                 0.0             5.0   \n",
              "2                True        NaN                 0.0             5.0   \n",
              "3                True        NaN                 0.0             4.0   \n",
              "4                True        NaN                 0.0             5.0   \n",
              "\n",
              "                                  reviews.sourceURLs  \\\n",
              "0  http://reviews.bestbuy.com/3545/5620406/review...   \n",
              "1  http://reviews.bestbuy.com/3545/5620406/review...   \n",
              "2  http://reviews.bestbuy.com/3545/5620406/review...   \n",
              "3  http://reviews.bestbuy.com/3545/5620406/review...   \n",
              "4  http://reviews.bestbuy.com/3545/5620406/review...   \n",
              "\n",
              "                                        reviews.text  \\\n",
              "0  This product so far has not disappointed. My c...   \n",
              "1  great for beginner or experienced person. Boug...   \n",
              "2  Inexpensive tablet for him to use and learn on...   \n",
              "3  I've had my Fire HD 8 two weeks now and I love...   \n",
              "4  I bought this for my grand daughter when she c...   \n",
              "\n",
              "                             reviews.title reviews.userCity  \\\n",
              "0                                   Kindle              NaN   \n",
              "1                                very fast              NaN   \n",
              "2  Beginner tablet for our 9 year old son.              NaN   \n",
              "3                                  Good!!!              NaN   \n",
              "4                Fantastic Tablet for kids              NaN   \n",
              "\n",
              "   reviews.userProvince  reviews.username  \n",
              "0                   NaN           Adapter  \n",
              "1                   NaN            truman  \n",
              "2                   NaN             DaveZ  \n",
              "3                   NaN            Shacks  \n",
              "4                   NaN         explore42  \n",
              "\n",
              "[5 rows x 21 columns]"
            ]
          },
          "metadata": {
            "tags": []
          },
          "execution_count": 8
        }
      ]
    },
    {
      "metadata": {
        "id": "tr-oFss-JOQh",
        "colab_type": "text"
      },
      "cell_type": "markdown",
      "source": [
        "# **Exploring the data**"
      ]
    },
    {
      "metadata": {
        "id": "-WXeWAMS9Yo1",
        "colab_type": "code",
        "colab": {}
      },
      "cell_type": "code",
      "source": [
        "reviews.columns = ['id', 'name', 'asins', 'brand', 'categories', 'keys', 'manufacturer','date', 'dateAdded', 'dateSeen',\n",
        "       'didPurchase', 'doRecommend', 'id','numHelpful', 'rating', 'sourceURLs','text', 'title', 'userCity',\n",
        "       'userProvince', 'username']"
      ],
      "execution_count": 0,
      "outputs": []
    },
    {
      "metadata": {
        "id": "JXnoYY05VMZg",
        "colab_type": "text"
      },
      "cell_type": "markdown",
      "source": [
        "Identifying the unique values of each columns"
      ]
    },
    {
      "metadata": {
        "id": "OWG-h0bYJUFP",
        "colab_type": "code",
        "outputId": "a47f5e1b-c754-40fa-aa16-64162817a943",
        "colab": {
          "base_uri": "https://localhost:8080/",
          "height": 399
        }
      },
      "cell_type": "code",
      "source": [
        "reviews.nunique()"
      ],
      "execution_count": 0,
      "outputs": [
        {
          "output_type": "execute_result",
          "data": {
            "text/plain": [
              "id                 42\n",
              "name               48\n",
              "asins              41\n",
              "brand               6\n",
              "categories         41\n",
              "keys               42\n",
              "manufacturer        2\n",
              "date             1078\n",
              "dateAdded        1941\n",
              "dateSeen         3911\n",
              "didPurchase         1\n",
              "doRecommend         2\n",
              "id                  1\n",
              "numHelpful         97\n",
              "rating              5\n",
              "sourceURLs      11929\n",
              "text            34659\n",
              "title           19767\n",
              "userCity            0\n",
              "userProvince        0\n",
              "username        26789\n",
              "dtype: int64"
            ]
          },
          "metadata": {
            "tags": []
          },
          "execution_count": 10
        }
      ]
    },
    {
      "metadata": {
        "id": "QfOzdzGjVI8u",
        "colab_type": "text"
      },
      "cell_type": "markdown",
      "source": [
        "Identifying the Null values of each column"
      ]
    },
    {
      "metadata": {
        "id": "Hn9kIs6GVAoZ",
        "colab_type": "code",
        "outputId": "b2455b10-955f-438c-a8aa-9fcc7f9f30cd",
        "colab": {
          "base_uri": "https://localhost:8080/",
          "height": 399
        }
      },
      "cell_type": "code",
      "source": [
        "reviews.isnull().sum()\n",
        "#lets drop usernames, userProvince,id,didPurchase"
      ],
      "execution_count": 0,
      "outputs": [
        {
          "output_type": "execute_result",
          "data": {
            "text/plain": [
              "id                  0\n",
              "name             6760\n",
              "asins               2\n",
              "brand               0\n",
              "categories          0\n",
              "keys                0\n",
              "manufacturer        0\n",
              "date               39\n",
              "dateAdded       10621\n",
              "dateSeen            0\n",
              "didPurchase     34659\n",
              "doRecommend       594\n",
              "id              34659\n",
              "numHelpful        529\n",
              "rating             33\n",
              "sourceURLs          0\n",
              "text                1\n",
              "title               5\n",
              "userCity        34660\n",
              "userProvince    34660\n",
              "username            2\n",
              "dtype: int64"
            ]
          },
          "metadata": {
            "tags": []
          },
          "execution_count": 11
        }
      ]
    },
    {
      "metadata": {
        "id": "sWoXuz2OUhHP",
        "colab_type": "text"
      },
      "cell_type": "markdown",
      "source": [
        "# **1. Understand and clean the data Data Preprocessing**"
      ]
    },
    {
      "metadata": {
        "id": "dkHYWgt1Vu5A",
        "colab_type": "text"
      },
      "cell_type": "markdown",
      "source": [
        "## Dropping the columns which are not useful"
      ]
    },
    {
      "metadata": {
        "id": "-G9bR9BnVt4G",
        "colab_type": "code",
        "colab": {}
      },
      "cell_type": "code",
      "source": [
        "#lets drop usernames, userProvince, id,didPurchase\n",
        "\n",
        "reviews.drop(labels=['didPurchase','id','userCity','userProvince'],axis=1,inplace=True)\n"
      ],
      "execution_count": 0,
      "outputs": []
    },
    {
      "metadata": {
        "id": "7oemSL0pWAvX",
        "colab_type": "code",
        "outputId": "7ef4b129-ca73-4650-e353-4f39981b9d6a",
        "colab": {
          "base_uri": "https://localhost:8080/",
          "height": 742
        }
      },
      "cell_type": "code",
      "source": [
        "reviews.head()"
      ],
      "execution_count": 0,
      "outputs": [
        {
          "output_type": "execute_result",
          "data": {
            "text/html": [
              "<div>\n",
              "<style scoped>\n",
              "    .dataframe tbody tr th:only-of-type {\n",
              "        vertical-align: middle;\n",
              "    }\n",
              "\n",
              "    .dataframe tbody tr th {\n",
              "        vertical-align: top;\n",
              "    }\n",
              "\n",
              "    .dataframe thead th {\n",
              "        text-align: right;\n",
              "    }\n",
              "</style>\n",
              "<table border=\"1\" class=\"dataframe\">\n",
              "  <thead>\n",
              "    <tr style=\"text-align: right;\">\n",
              "      <th></th>\n",
              "      <th>name</th>\n",
              "      <th>asins</th>\n",
              "      <th>brand</th>\n",
              "      <th>categories</th>\n",
              "      <th>keys</th>\n",
              "      <th>manufacturer</th>\n",
              "      <th>date</th>\n",
              "      <th>dateAdded</th>\n",
              "      <th>dateSeen</th>\n",
              "      <th>doRecommend</th>\n",
              "      <th>numHelpful</th>\n",
              "      <th>rating</th>\n",
              "      <th>sourceURLs</th>\n",
              "      <th>text</th>\n",
              "      <th>title</th>\n",
              "      <th>username</th>\n",
              "    </tr>\n",
              "  </thead>\n",
              "  <tbody>\n",
              "    <tr>\n",
              "      <th>0</th>\n",
              "      <td>All-New Fire HD 8 Tablet, 8 HD Display, Wi-Fi,...</td>\n",
              "      <td>B01AHB9CN2</td>\n",
              "      <td>Amazon</td>\n",
              "      <td>Electronics,iPad &amp; Tablets,All Tablets,Fire Ta...</td>\n",
              "      <td>841667104676,amazon/53004484,amazon/b01ahb9cn2...</td>\n",
              "      <td>Amazon</td>\n",
              "      <td>2017-01-13T00:00:00.000Z</td>\n",
              "      <td>2017-07-03T23:33:15Z</td>\n",
              "      <td>2017-06-07T09:04:00.000Z,2017-04-30T00:45:00.000Z</td>\n",
              "      <td>True</td>\n",
              "      <td>0.0</td>\n",
              "      <td>5.0</td>\n",
              "      <td>http://reviews.bestbuy.com/3545/5620406/review...</td>\n",
              "      <td>This product so far has not disappointed. My c...</td>\n",
              "      <td>Kindle</td>\n",
              "      <td>Adapter</td>\n",
              "    </tr>\n",
              "    <tr>\n",
              "      <th>1</th>\n",
              "      <td>All-New Fire HD 8 Tablet, 8 HD Display, Wi-Fi,...</td>\n",
              "      <td>B01AHB9CN2</td>\n",
              "      <td>Amazon</td>\n",
              "      <td>Electronics,iPad &amp; Tablets,All Tablets,Fire Ta...</td>\n",
              "      <td>841667104676,amazon/53004484,amazon/b01ahb9cn2...</td>\n",
              "      <td>Amazon</td>\n",
              "      <td>2017-01-13T00:00:00.000Z</td>\n",
              "      <td>2017-07-03T23:33:15Z</td>\n",
              "      <td>2017-06-07T09:04:00.000Z,2017-04-30T00:45:00.000Z</td>\n",
              "      <td>True</td>\n",
              "      <td>0.0</td>\n",
              "      <td>5.0</td>\n",
              "      <td>http://reviews.bestbuy.com/3545/5620406/review...</td>\n",
              "      <td>great for beginner or experienced person. Boug...</td>\n",
              "      <td>very fast</td>\n",
              "      <td>truman</td>\n",
              "    </tr>\n",
              "    <tr>\n",
              "      <th>2</th>\n",
              "      <td>All-New Fire HD 8 Tablet, 8 HD Display, Wi-Fi,...</td>\n",
              "      <td>B01AHB9CN2</td>\n",
              "      <td>Amazon</td>\n",
              "      <td>Electronics,iPad &amp; Tablets,All Tablets,Fire Ta...</td>\n",
              "      <td>841667104676,amazon/53004484,amazon/b01ahb9cn2...</td>\n",
              "      <td>Amazon</td>\n",
              "      <td>2017-01-13T00:00:00.000Z</td>\n",
              "      <td>2017-07-03T23:33:15Z</td>\n",
              "      <td>2017-06-07T09:04:00.000Z,2017-04-30T00:45:00.000Z</td>\n",
              "      <td>True</td>\n",
              "      <td>0.0</td>\n",
              "      <td>5.0</td>\n",
              "      <td>http://reviews.bestbuy.com/3545/5620406/review...</td>\n",
              "      <td>Inexpensive tablet for him to use and learn on...</td>\n",
              "      <td>Beginner tablet for our 9 year old son.</td>\n",
              "      <td>DaveZ</td>\n",
              "    </tr>\n",
              "    <tr>\n",
              "      <th>3</th>\n",
              "      <td>All-New Fire HD 8 Tablet, 8 HD Display, Wi-Fi,...</td>\n",
              "      <td>B01AHB9CN2</td>\n",
              "      <td>Amazon</td>\n",
              "      <td>Electronics,iPad &amp; Tablets,All Tablets,Fire Ta...</td>\n",
              "      <td>841667104676,amazon/53004484,amazon/b01ahb9cn2...</td>\n",
              "      <td>Amazon</td>\n",
              "      <td>2017-01-13T00:00:00.000Z</td>\n",
              "      <td>2017-07-03T23:33:15Z</td>\n",
              "      <td>2017-06-07T09:04:00.000Z,2017-04-30T00:45:00.000Z</td>\n",
              "      <td>True</td>\n",
              "      <td>0.0</td>\n",
              "      <td>4.0</td>\n",
              "      <td>http://reviews.bestbuy.com/3545/5620406/review...</td>\n",
              "      <td>I've had my Fire HD 8 two weeks now and I love...</td>\n",
              "      <td>Good!!!</td>\n",
              "      <td>Shacks</td>\n",
              "    </tr>\n",
              "    <tr>\n",
              "      <th>4</th>\n",
              "      <td>All-New Fire HD 8 Tablet, 8 HD Display, Wi-Fi,...</td>\n",
              "      <td>B01AHB9CN2</td>\n",
              "      <td>Amazon</td>\n",
              "      <td>Electronics,iPad &amp; Tablets,All Tablets,Fire Ta...</td>\n",
              "      <td>841667104676,amazon/53004484,amazon/b01ahb9cn2...</td>\n",
              "      <td>Amazon</td>\n",
              "      <td>2017-01-12T00:00:00.000Z</td>\n",
              "      <td>2017-07-03T23:33:15Z</td>\n",
              "      <td>2017-06-07T09:04:00.000Z,2017-04-30T00:45:00.000Z</td>\n",
              "      <td>True</td>\n",
              "      <td>0.0</td>\n",
              "      <td>5.0</td>\n",
              "      <td>http://reviews.bestbuy.com/3545/5620406/review...</td>\n",
              "      <td>I bought this for my grand daughter when she c...</td>\n",
              "      <td>Fantastic Tablet for kids</td>\n",
              "      <td>explore42</td>\n",
              "    </tr>\n",
              "  </tbody>\n",
              "</table>\n",
              "</div>"
            ],
            "text/plain": [
              "                                                name       asins   brand  \\\n",
              "0  All-New Fire HD 8 Tablet, 8 HD Display, Wi-Fi,...  B01AHB9CN2  Amazon   \n",
              "1  All-New Fire HD 8 Tablet, 8 HD Display, Wi-Fi,...  B01AHB9CN2  Amazon   \n",
              "2  All-New Fire HD 8 Tablet, 8 HD Display, Wi-Fi,...  B01AHB9CN2  Amazon   \n",
              "3  All-New Fire HD 8 Tablet, 8 HD Display, Wi-Fi,...  B01AHB9CN2  Amazon   \n",
              "4  All-New Fire HD 8 Tablet, 8 HD Display, Wi-Fi,...  B01AHB9CN2  Amazon   \n",
              "\n",
              "                                          categories  \\\n",
              "0  Electronics,iPad & Tablets,All Tablets,Fire Ta...   \n",
              "1  Electronics,iPad & Tablets,All Tablets,Fire Ta...   \n",
              "2  Electronics,iPad & Tablets,All Tablets,Fire Ta...   \n",
              "3  Electronics,iPad & Tablets,All Tablets,Fire Ta...   \n",
              "4  Electronics,iPad & Tablets,All Tablets,Fire Ta...   \n",
              "\n",
              "                                                keys manufacturer  \\\n",
              "0  841667104676,amazon/53004484,amazon/b01ahb9cn2...       Amazon   \n",
              "1  841667104676,amazon/53004484,amazon/b01ahb9cn2...       Amazon   \n",
              "2  841667104676,amazon/53004484,amazon/b01ahb9cn2...       Amazon   \n",
              "3  841667104676,amazon/53004484,amazon/b01ahb9cn2...       Amazon   \n",
              "4  841667104676,amazon/53004484,amazon/b01ahb9cn2...       Amazon   \n",
              "\n",
              "                       date             dateAdded  \\\n",
              "0  2017-01-13T00:00:00.000Z  2017-07-03T23:33:15Z   \n",
              "1  2017-01-13T00:00:00.000Z  2017-07-03T23:33:15Z   \n",
              "2  2017-01-13T00:00:00.000Z  2017-07-03T23:33:15Z   \n",
              "3  2017-01-13T00:00:00.000Z  2017-07-03T23:33:15Z   \n",
              "4  2017-01-12T00:00:00.000Z  2017-07-03T23:33:15Z   \n",
              "\n",
              "                                            dateSeen doRecommend  numHelpful  \\\n",
              "0  2017-06-07T09:04:00.000Z,2017-04-30T00:45:00.000Z        True         0.0   \n",
              "1  2017-06-07T09:04:00.000Z,2017-04-30T00:45:00.000Z        True         0.0   \n",
              "2  2017-06-07T09:04:00.000Z,2017-04-30T00:45:00.000Z        True         0.0   \n",
              "3  2017-06-07T09:04:00.000Z,2017-04-30T00:45:00.000Z        True         0.0   \n",
              "4  2017-06-07T09:04:00.000Z,2017-04-30T00:45:00.000Z        True         0.0   \n",
              "\n",
              "   rating                                         sourceURLs  \\\n",
              "0     5.0  http://reviews.bestbuy.com/3545/5620406/review...   \n",
              "1     5.0  http://reviews.bestbuy.com/3545/5620406/review...   \n",
              "2     5.0  http://reviews.bestbuy.com/3545/5620406/review...   \n",
              "3     4.0  http://reviews.bestbuy.com/3545/5620406/review...   \n",
              "4     5.0  http://reviews.bestbuy.com/3545/5620406/review...   \n",
              "\n",
              "                                                text  \\\n",
              "0  This product so far has not disappointed. My c...   \n",
              "1  great for beginner or experienced person. Boug...   \n",
              "2  Inexpensive tablet for him to use and learn on...   \n",
              "3  I've had my Fire HD 8 two weeks now and I love...   \n",
              "4  I bought this for my grand daughter when she c...   \n",
              "\n",
              "                                     title   username  \n",
              "0                                   Kindle    Adapter  \n",
              "1                                very fast     truman  \n",
              "2  Beginner tablet for our 9 year old son.      DaveZ  \n",
              "3                                  Good!!!     Shacks  \n",
              "4                Fantastic Tablet for kids  explore42  "
            ]
          },
          "metadata": {
            "tags": []
          },
          "execution_count": 13
        }
      ]
    },
    {
      "metadata": {
        "id": "8_qKemPrPkYt",
        "colab_type": "code",
        "outputId": "748be550-f0e0-4788-f3af-d3e58270ce48",
        "colab": {
          "base_uri": "https://localhost:8080/",
          "height": 284
        }
      },
      "cell_type": "code",
      "source": [
        "reviews.describe()"
      ],
      "execution_count": 0,
      "outputs": [
        {
          "output_type": "execute_result",
          "data": {
            "text/html": [
              "<div>\n",
              "<style scoped>\n",
              "    .dataframe tbody tr th:only-of-type {\n",
              "        vertical-align: middle;\n",
              "    }\n",
              "\n",
              "    .dataframe tbody tr th {\n",
              "        vertical-align: top;\n",
              "    }\n",
              "\n",
              "    .dataframe thead th {\n",
              "        text-align: right;\n",
              "    }\n",
              "</style>\n",
              "<table border=\"1\" class=\"dataframe\">\n",
              "  <thead>\n",
              "    <tr style=\"text-align: right;\">\n",
              "      <th></th>\n",
              "      <th>numHelpful</th>\n",
              "      <th>rating</th>\n",
              "    </tr>\n",
              "  </thead>\n",
              "  <tbody>\n",
              "    <tr>\n",
              "      <th>count</th>\n",
              "      <td>34131.000000</td>\n",
              "      <td>34627.000000</td>\n",
              "    </tr>\n",
              "    <tr>\n",
              "      <th>mean</th>\n",
              "      <td>0.630248</td>\n",
              "      <td>4.584573</td>\n",
              "    </tr>\n",
              "    <tr>\n",
              "      <th>std</th>\n",
              "      <td>13.215775</td>\n",
              "      <td>0.735653</td>\n",
              "    </tr>\n",
              "    <tr>\n",
              "      <th>min</th>\n",
              "      <td>0.000000</td>\n",
              "      <td>1.000000</td>\n",
              "    </tr>\n",
              "    <tr>\n",
              "      <th>25%</th>\n",
              "      <td>0.000000</td>\n",
              "      <td>4.000000</td>\n",
              "    </tr>\n",
              "    <tr>\n",
              "      <th>50%</th>\n",
              "      <td>0.000000</td>\n",
              "      <td>5.000000</td>\n",
              "    </tr>\n",
              "    <tr>\n",
              "      <th>75%</th>\n",
              "      <td>0.000000</td>\n",
              "      <td>5.000000</td>\n",
              "    </tr>\n",
              "    <tr>\n",
              "      <th>max</th>\n",
              "      <td>814.000000</td>\n",
              "      <td>5.000000</td>\n",
              "    </tr>\n",
              "  </tbody>\n",
              "</table>\n",
              "</div>"
            ],
            "text/plain": [
              "         numHelpful        rating\n",
              "count  34131.000000  34627.000000\n",
              "mean       0.630248      4.584573\n",
              "std       13.215775      0.735653\n",
              "min        0.000000      1.000000\n",
              "25%        0.000000      4.000000\n",
              "50%        0.000000      5.000000\n",
              "75%        0.000000      5.000000\n",
              "max      814.000000      5.000000"
            ]
          },
          "metadata": {
            "tags": []
          },
          "execution_count": 20
        }
      ]
    },
    {
      "metadata": {
        "id": "EqpDEd54Rsv1",
        "colab_type": "text"
      },
      "cell_type": "markdown",
      "source": [
        "## Null values"
      ]
    },
    {
      "metadata": {
        "id": "8R-PjJKnsc3A",
        "colab_type": "code",
        "outputId": "fa331f63-6a8f-485f-d6e8-568225ca598b",
        "colab": {
          "base_uri": "https://localhost:8080/",
          "height": 302
        }
      },
      "cell_type": "code",
      "source": [
        "reviews.isnull().sum()"
      ],
      "execution_count": 0,
      "outputs": [
        {
          "output_type": "execute_result",
          "data": {
            "text/plain": [
              "name             6760\n",
              "asins               2\n",
              "brand               0\n",
              "categories          0\n",
              "keys                0\n",
              "manufacturer        0\n",
              "date               39\n",
              "dateAdded       10621\n",
              "dateSeen            0\n",
              "doRecommend       594\n",
              "numHelpful        529\n",
              "rating             33\n",
              "sourceURLs          0\n",
              "text                1\n",
              "title               5\n",
              "username            2\n",
              "dtype: int64"
            ]
          },
          "metadata": {
            "tags": []
          },
          "execution_count": 21
        }
      ]
    },
    {
      "metadata": {
        "id": "PqfRHveaX69b",
        "colab_type": "text"
      },
      "cell_type": "markdown",
      "source": [
        "# **2.Speculate whether ratings are genuine?**\n",
        "\n",
        "\n",
        "\n",
        "*   what if the one user is trying to give all rating ?\n",
        "*   How will the distribution look for bulk users ?\n",
        "*   How many users are bulk ?\n",
        "\n"
      ]
    },
    {
      "metadata": {
        "id": "KKWD9KwjYc5v",
        "colab_type": "text"
      },
      "cell_type": "markdown",
      "source": [
        "## Are the all the reviews given by same group of users ?"
      ]
    },
    {
      "metadata": {
        "id": "DXcCfnZjWszA",
        "colab_type": "code",
        "outputId": "602315f5-e0ac-4db2-baa6-aa3d68beffb7",
        "colab": {
          "base_uri": "https://localhost:8080/",
          "height": 711
        }
      },
      "cell_type": "code",
      "source": [
        "rating_perperson=reviews.username.value_counts()\n",
        "#ratings \n",
        "print (\"Total ratings : \" + str(sum(rating_perperson)))\n",
        "print (\"Total users : \" + str(len(rating_perperson)))\n",
        "print(\"Users giving bulk ratings (more than 10) : \" + str(sum(rating_perperson >10)))\n",
        "bulk = rating_perperson[rating_perperson >10]\n",
        "bulk_rating = sum(bulk)\n",
        "print (\"Bulk ratings : \" + str(bulk_rating))\n",
        "print (\"Populations of bulk ratings : \" + str(bulk_rating*100/sum(rating_perperson)))\n",
        "print (\"Populations of bulk users : \" + str(sum(rating_perperson >10)*100/len(rating_perperson)))\n",
        "rating_perperson.value_counts().plot(kind='pie',figsize=(10,10), title='Ratings Per User')"
      ],
      "execution_count": 0,
      "outputs": [
        {
          "output_type": "stream",
          "text": [
            "Total ratings : 34658\n",
            "Total users : 26789\n",
            "Users giving bulk ratings (more than 10) : 146\n",
            "Bulk ratings : 3160\n",
            "Populations of bulk ratings : 9.117664031392463\n",
            "Populations of bulk users : 0.5449998133562283\n"
          ],
          "name": "stdout"
        },
        {
          "output_type": "execute_result",
          "data": {
            "text/plain": [
              "<matplotlib.axes._subplots.AxesSubplot at 0x7fa9b17b8fd0>"
            ]
          },
          "metadata": {
            "tags": []
          },
          "execution_count": 15
        },
        {
          "output_type": "display_data",
          "data": {
            "image/png": "[encoded data removed]",
            "text/plain": [
              "<Figure size 720x720 with 1 Axes>"
            ]
          },
          "metadata": {
            "tags": []
          }
        }
      ]
    },
    {
      "metadata": {
        "id": "j5u6rmMCc_Xe",
        "colab_type": "text"
      },
      "cell_type": "markdown",
      "source": [
        "Although the pie chart reveals that most of the users  have given single rating but its intresting to note following fact\n",
        "\n",
        "\n",
        "\n",
        "*   only 0.55% of the users are bulk users\n",
        "\n",
        "*   Around 9% of the ratings have been submitted by just 0.55% users\n",
        "\n"
      ]
    },
    {
      "metadata": {
        "id": "2huBY1PLYyD8",
        "colab_type": "code",
        "outputId": "64b65e54-9225-4a6b-aa34-7baccc2e8b9b",
        "colab": {
          "base_uri": "https://localhost:8080/",
          "height": 703
        }
      },
      "cell_type": "code",
      "source": [
        "reviews['bulk']= reviews['username'].apply(lambda x : 1 if x in bulk.index else 0)\n",
        "#gives us the category whether a rating is bulk or not\n",
        "from matplotlib import pyplot\n",
        "#series.hist(by=series)\n",
        "print(reviews.rating.hist(by=reviews.bulk))\n",
        "print(reviews[reviews.bulk==1].rating.describe())\n",
        "print(reviews[reviews.bulk==0].rating.describe())"
      ],
      "execution_count": 0,
      "outputs": [
        {
          "output_type": "stream",
          "text": [
            "[<matplotlib.axes._subplots.AxesSubplot object at 0x7fa9b17b80f0>\n",
            " <matplotlib.axes._subplots.AxesSubplot object at 0x7fa9b1610da0>]\n",
            "count    3158.000000\n",
            "mean        4.593414\n",
            "std         0.732940\n",
            "min         1.000000\n",
            "25%         4.000000\n",
            "50%         5.000000\n",
            "75%         5.000000\n",
            "max         5.000000\n",
            "Name: rating, dtype: float64\n",
            "count    31469.000000\n",
            "mean         4.583686\n",
            "std          0.735930\n",
            "min          1.000000\n",
            "25%          4.000000\n",
            "50%          5.000000\n",
            "75%          5.000000\n",
            "max          5.000000\n",
            "Name: rating, dtype: float64\n"
          ],
          "name": "stdout"
        },
        {
          "output_type": "display_data",
          "data": {
            "image/png": "[encoded data removed]",
            "text/plain": [
              "<Figure size 576x396 with 2 Axes>"
            ]
          },
          "metadata": {
            "tags": []
          }
        }
      ]
    },
    {
      "metadata": {
        "id": "Cdm0Jn7ljoMs",
        "colab_type": "text"
      },
      "cell_type": "markdown",
      "source": [
        "well ! that picture says it all. "
      ]
    },
    {
      "metadata": {
        "id": "-K4L5UxOQ-YD",
        "colab_type": "text"
      },
      "cell_type": "markdown",
      "source": [
        "## Distribution of User rating "
      ]
    },
    {
      "metadata": {
        "id": "Wums9CpedvJE",
        "colab_type": "code",
        "outputId": "8d3eaad3-5033-4f6a-e3ca-976563c48b98",
        "colab": {
          "base_uri": "https://localhost:8080/",
          "height": 532
        }
      },
      "cell_type": "code",
      "source": [
        "from matplotlib import pyplot\n",
        "%matplotlib inline\n",
        "\n",
        "star = reviews.rating.value_counts()\n",
        "print(\"*** Rating distribution ***\")\n",
        "print(star)\n",
        "star.sort_index(inplace=True)\n",
        "star.plot(kind='bar',title='Amazon customer ratings',figsize=(6,6),style='Solarize_Light2')"
      ],
      "execution_count": 0,
      "outputs": [
        {
          "output_type": "stream",
          "text": [
            "*** Rating distribution ***\n",
            "5.0    23775\n",
            "4.0     8541\n",
            "3.0     1499\n",
            "1.0      410\n",
            "2.0      402\n",
            "Name: rating, dtype: int64\n"
          ],
          "name": "stdout"
        },
        {
          "output_type": "execute_result",
          "data": {
            "text/plain": [
              "<matplotlib.axes._subplots.AxesSubplot at 0x7fa9b15f3c88>"
            ]
          },
          "metadata": {
            "tags": []
          },
          "execution_count": 17
        },
        {
          "output_type": "display_data",
          "data": {
            "image/png": "[encoded data removed]",
            "text/plain": [
              "<Figure size 432x432 with 1 Axes>"
            ]
          },
          "metadata": {
            "tags": []
          }
        }
      ]
    },
    {
      "metadata": {
        "id": "CLN-4Nfysp1C",
        "colab_type": "text"
      },
      "cell_type": "markdown",
      "source": [
        "# **3. Find the NPS net promoter scsore of amazon**\n",
        "\n",
        "\n",
        "*   What's NPS score ?\n",
        "*   How do we calculated for amazon ?\n",
        "\n"
      ]
    },
    {
      "metadata": {
        "id": "3dEfpPUetBaQ",
        "colab_type": "text"
      },
      "cell_type": "markdown",
      "source": [
        "*  Net Promoters Score helps us evaluate customer satisfaction and loyalty\n",
        "*  Rating 1,2,3 - Detractors \n",
        "*  Rating 4 - Passive \n",
        "*  Rating 5 - Promoters \n",
        "\n",
        "*  NPS = (Promoters - Detractors)/Total ratings * 100"
      ]
    },
    {
      "metadata": {
        "id": "9ZkGB78isoSH",
        "colab_type": "code",
        "outputId": "19863ee7-0af8-4155-e00e-bd0c78841358",
        "colab": {
          "base_uri": "https://localhost:8080/",
          "height": 35
        }
      },
      "cell_type": "code",
      "source": [
        "NPS_score = round (100*((star.loc[5])-sum(star.loc[1:3]))/sum(star.loc[:]),2)\n",
        "print (\" NPS score of Amazon is : \"  + str(NPS_score))"
      ],
      "execution_count": 0,
      "outputs": [
        {
          "output_type": "stream",
          "text": [
            " NPS score of Amazon is : 61.99\n"
          ],
          "name": "stdout"
        }
      ]
    },
    {
      "metadata": {
        "id": "FfYJvwH-tiJo",
        "colab_type": "text"
      },
      "cell_type": "markdown",
      "source": [
        "# **4. Pick a product and deep dive**\n",
        "*   We will pick one variation of kindle product drill & analyse its characteristics\n",
        "*   Lets deep dive and pick product to analyse"
      ]
    },
    {
      "metadata": {
        "id": "OgYS9P3rtg3V",
        "colab_type": "code",
        "colab": {}
      },
      "cell_type": "code",
      "source": [
        "kindle = reviews[reviews.name=='Amazon Kindle Paperwhite - eBook reader - 4 GB - 6 monochrome Paperwhite - touchscreen - Wi-Fi - black,,,']"
      ],
      "execution_count": 0,
      "outputs": []
    },
    {
      "metadata": {
        "id": "i8KcD7lGtqAp",
        "colab_type": "code",
        "outputId": "70be919e-0601-4b1e-bdff-1090e225ad93",
        "colab": {
          "base_uri": "https://localhost:8080/",
          "height": 329
        }
      },
      "cell_type": "code",
      "source": [
        "kindle.isnull().sum()\n",
        "# The dataset looks good to go"
      ],
      "execution_count": 0,
      "outputs": [
        {
          "output_type": "execute_result",
          "data": {
            "text/plain": [
              "name            0\n",
              "asins           0\n",
              "brand           0\n",
              "categories      0\n",
              "keys            0\n",
              "manufacturer    0\n",
              "date            0\n",
              "dateAdded       0\n",
              "dateSeen        0\n",
              "doRecommend     0\n",
              "numHelpful      0\n",
              "rating          0\n",
              "sourceURLs      0\n",
              "text            0\n",
              "title           0\n",
              "username        0\n",
              "bulk            0\n",
              "dtype: int64"
            ]
          },
          "metadata": {
            "tags": []
          },
          "execution_count": 21
        }
      ]
    },
    {
      "metadata": {
        "id": "DGS43i4JtvE6",
        "colab_type": "text"
      },
      "cell_type": "markdown",
      "source": [
        "# **5. [Paper white kindle] - NPS score ?**"
      ]
    },
    {
      "metadata": {
        "id": "HGiOtK53trR-",
        "colab_type": "code",
        "outputId": "0bef46e0-918f-411a-9d9b-096387db28e0",
        "colab": {
          "base_uri": "https://localhost:8080/",
          "height": 428
        }
      },
      "cell_type": "code",
      "source": [
        "kindle_s = kindle.rating.value_counts()\n",
        "kindle_s.sort_index(inplace=True)\n",
        "\n",
        "Kindle_NPS_score = round (100*(kindle_s[5]-sum(kindle_s[1:3]))/sum(kindle_s),2)\n",
        "print (\" NPS score of Kindle is : \"  + str(Kindle_NPS_score))\n",
        "#better NPS than overall amazon\n",
        "kindle_s.plot(kind='bar',title='Amazon customer ratings',figsize=(6,6),style='Solarize_Light2')"
      ],
      "execution_count": 0,
      "outputs": [
        {
          "output_type": "stream",
          "text": [
            " NPS score of Kindle is : 77.08\n"
          ],
          "name": "stdout"
        },
        {
          "output_type": "execute_result",
          "data": {
            "text/plain": [
              "<matplotlib.axes._subplots.AxesSubplot at 0x7fa9b167bd68>"
            ]
          },
          "metadata": {
            "tags": []
          },
          "execution_count": 22
        },
        {
          "output_type": "display_data",
          "data": {
            "image/png": "[encoded data removed]",
            "text/plain": [
              "<Figure size 432x432 with 1 Axes>"
            ]
          },
          "metadata": {
            "tags": []
          }
        }
      ]
    },
    {
      "metadata": {
        "id": "Hf_KjsALt2_3",
        "colab_type": "text"
      },
      "cell_type": "markdown",
      "source": [
        "What about recommendations ? How is rating related to recommendation ?"
      ]
    },
    {
      "metadata": {
        "id": "nJ7UJV1-tz-0",
        "colab_type": "code",
        "outputId": "1e8c73cb-eaa3-46c2-c4e0-36f9aa043c12",
        "colab": {
          "base_uri": "https://localhost:8080/",
          "height": 69
        }
      },
      "cell_type": "code",
      "source": [
        "kindle.doRecommend.value_counts()"
      ],
      "execution_count": 0,
      "outputs": [
        {
          "output_type": "execute_result",
          "data": {
            "text/plain": [
              "True     3111\n",
              "False      65\n",
              "Name: doRecommend, dtype: int64"
            ]
          },
          "metadata": {
            "tags": []
          },
          "execution_count": 23
        }
      ]
    },
    {
      "metadata": {
        "id": "PUMSUp7Ut42o",
        "colab_type": "code",
        "outputId": "d69c8658-5484-48c5-9393-dc305921b6d5",
        "colab": {
          "base_uri": "https://localhost:8080/",
          "height": 443
        }
      },
      "cell_type": "code",
      "source": [
        "kindle.rating.hist(by=kindle.doRecommend,figsize=(12,6))"
      ],
      "execution_count": 0,
      "outputs": [
        {
          "output_type": "execute_result",
          "data": {
            "text/plain": [
              "array([<matplotlib.axes._subplots.AxesSubplot object at 0x7fa9b16669e8>,\n",
              "       <matplotlib.axes._subplots.AxesSubplot object at 0x7fa9b1570208>],\n",
              "      dtype=object)"
            ]
          },
          "metadata": {
            "tags": []
          },
          "execution_count": 24
        },
        {
          "output_type": "display_data",
          "data": {
            "image/png": "[encoded data removed]",
            "text/plain": [
              "<Figure size 864x432 with 2 Axes>"
            ]
          },
          "metadata": {
            "tags": []
          }
        }
      ]
    },
    {
      "metadata": {
        "id": "APG0S-2Gt-5W",
        "colab_type": "code",
        "outputId": "9007f36e-01b9-440e-e113-45db8b21cfcc",
        "colab": {
          "base_uri": "https://localhost:8080/",
          "height": 69
        }
      },
      "cell_type": "code",
      "source": [
        "plus_kindle = kindle[kindle.doRecommend==True].rating.value_counts()\n",
        "plus_kindle.sort_index(inplace=True)\n",
        "recomm_NPS = round(100*(sum(plus_kindle[4:5])-sum(plus_kindle[1:2]))/sum(plus_kindle),2)\n",
        "minus_kindle = kindle[kindle.doRecommend==False].rating.value_counts()\n",
        "minus_kindle.sort_index(inplace=True)\n",
        "notrecomm_NPS = round(100*(sum(minus_kindle[4:5])-sum(minus_kindle[1:2]))/sum(minus_kindle),2)\n",
        "print(\"Those who recommend amazon kindle generate high NPS score of \" + str(recomm_NPS))\n",
        "print(\"Those who DO NOT recommend kindle produce a NPS score of \" + str(notrecomm_NPS))\n",
        "print(\" ~ pretty much correct definition of NPS score\")"
      ],
      "execution_count": 0,
      "outputs": [
        {
          "output_type": "stream",
          "text": [
            "Those who recommend amazon kindle generate high NPS score of 98.23\n",
            "Those who DO NOT recommend kindle produce a NPS score of -20.0\n",
            " ~ pretty much correct definition of NPS score\n"
          ],
          "name": "stdout"
        }
      ]
    },
    {
      "metadata": {
        "id": "3tMGxy_2uGs5",
        "colab_type": "text"
      },
      "cell_type": "markdown",
      "source": [
        "# **6. [Paper white kindle] - Plot time series for reviews**\n",
        "*  How to handle date time text ?\n",
        "*  How to plot time series on a graph ?\n",
        "*  How does the graph look like in small intervals of 5 days or 10 days or 30 days ?\n",
        "*  Did the performance (NPS) go up or down with time ?"
      ]
    },
    {
      "metadata": {
        "id": "5YV5qp_AuBUq",
        "colab_type": "code",
        "outputId": "1708ff76-8a2c-40f7-957d-5c381edab65b",
        "colab": {
          "base_uri": "https://localhost:8080/",
          "height": 505
        }
      },
      "cell_type": "code",
      "source": [
        "kindle['temp'] = kindle.date.apply(lambda x : pd.to_datetime(x))\n",
        "kindle_review_dates = kindle.date.value_counts()\n",
        "kindle_review_dates.sort_index(inplace=True)\n",
        "kindle_review_dates.plot(kind='area',figsize=(12,6))"
      ],
      "execution_count": 0,
      "outputs": [
        {
          "output_type": "stream",
          "text": [
            "/usr/local/lib/python3.6/dist-packages/ipykernel_launcher.py:1: SettingWithCopyWarning: \n",
            "A value is trying to be set on a copy of a slice from a DataFrame.\n",
            "Try using .loc[row_indexer,col_indexer] = value instead\n",
            "\n",
            "See the caveats in the documentation: http://pandas.pydata.org/pandas-docs/stable/indexing.html#indexing-view-versus-copy\n",
            "  \"\"\"Entry point for launching an IPython kernel.\n"
          ],
          "name": "stderr"
        },
        {
          "output_type": "execute_result",
          "data": {
            "text/plain": [
              "<matplotlib.axes._subplots.AxesSubplot at 0x7fa9af4c4780>"
            ]
          },
          "metadata": {
            "tags": []
          },
          "execution_count": 26
        },
        {
          "output_type": "display_data",
          "data": {
            "image/png": "[encoded data removed]",
            "text/plain": [
              "<Figure size 864x432 with 1 Axes>"
            ]
          },
          "metadata": {
            "tags": []
          }
        }
      ]
    },
    {
      "metadata": {
        "id": "KqUkiCfbuOoD",
        "colab_type": "code",
        "outputId": "1d950f54-7bb3-4bcb-81c2-8a6411d2d641",
        "colab": {
          "base_uri": "https://localhost:8080/",
          "height": 208
        }
      },
      "cell_type": "code",
      "source": [
        "rating_perdate = kindle_review_dates.sort_values(ascending=False)\n",
        "peakrating = rating_perdate[:20]\n",
        "peak_month=[]\n",
        "for x in peakrating.index:\n",
        "    peak_month.append(pd.to_datetime(x).month)\n",
        "pd.Series(peak_month).value_counts()"
      ],
      "execution_count": 0,
      "outputs": [
        {
          "output_type": "execute_result",
          "data": {
            "text/plain": [
              "1     8\n",
              "12    3\n",
              "6     2\n",
              "10    1\n",
              "9     1\n",
              "8     1\n",
              "7     1\n",
              "5     1\n",
              "3     1\n",
              "2     1\n",
              "dtype: int64"
            ]
          },
          "metadata": {
            "tags": []
          },
          "execution_count": 27
        }
      ]
    },
    {
      "metadata": {
        "id": "JMUnHkaGuST6",
        "colab_type": "text"
      },
      "cell_type": "markdown",
      "source": [
        "**Insight**\n",
        "*  January month has the highest number of peaks >> Activity is high >> More Sales during Jan ( We all know)\n",
        "*  There is high degree of variance in reviews added over time"
      ]
    },
    {
      "metadata": {
        "id": "jW_OkyfyuQbw",
        "colab_type": "code",
        "outputId": "f5dd1f23-f97b-4ee2-9a55-b76a9353fd63",
        "colab": {
          "base_uri": "https://localhost:8080/",
          "height": 1208
        }
      },
      "cell_type": "code",
      "source": [
        "rating_series = pd.DataFrame(kindle.date)\n",
        "dforms=[]\n",
        "for x in rating_series.date:\n",
        "    dforms.append((pd.to_datetime(x)).value)\n",
        "# now we have dforms which has dates transformed to numeric values\n",
        "rating2 = rating_series.assign(date_min = dforms)\n",
        "rating2.reset_index(inplace=True)\n",
        "#rating2.set_index('date_min')\n",
        "#rating2.columns=['timestamp_string','review_count','date_min']\n",
        "bins = np.linspace(min(rating2.date_min),max(rating2.date_min),num=50)\n",
        "rating2.hist(column='date_min', bins=20,figsize=(10,6),)\n",
        "rating2.hist(column='date_min', bins=30,figsize=(10,6))\n",
        "rating2.hist(column='date_min', bins=50,figsize=(10,6))"
      ],
      "execution_count": 0,
      "outputs": [
        {
          "output_type": "execute_result",
          "data": {
            "text/plain": [
              "array([[<matplotlib.axes._subplots.AxesSubplot object at 0x7fa9af334fd0>]],\n",
              "      dtype=object)"
            ]
          },
          "metadata": {
            "tags": []
          },
          "execution_count": 28
        },
        {
          "output_type": "display_data",
          "data": {
            "image/png": "[encoded data removed]",
            "text/plain": [
              "<Figure size 720x432 with 1 Axes>"
            ]
          },
          "metadata": {
            "tags": []
          }
        },
        {
          "output_type": "display_data",
          "data": {
            "image/png": "[encoded data removed]",
            "text/plain": [
              "<Figure size 720x432 with 1 Axes>"
            ]
          },
          "metadata": {
            "tags": []
          }
        },
        {
          "output_type": "display_data",
          "data": {
            "image/png": "[encoded data removed]",
            "text/plain": [
              "<Figure size 720x432 with 1 Axes>"
            ]
          },
          "metadata": {
            "tags": []
          }
        }
      ]
    },
    {
      "metadata": {
        "id": "IpBMf73Xua0J",
        "colab_type": "code",
        "colab": {}
      },
      "cell_type": "code",
      "source": [
        "def NPS_eval (A):\n",
        "    score =0\n",
        "    for x in A[:]:\n",
        "        if (x>4) :\n",
        "            score+=1\n",
        "        elif (x<4) :\n",
        "            score-=1\n",
        "    return 100*score/len(A) "
      ],
      "execution_count": 0,
      "outputs": []
    },
    {
      "metadata": {
        "id": "OOs5RCmuudzi",
        "colab_type": "code",
        "outputId": "616b3a88-da56-4f7c-f775-e5ce6e2e6819",
        "colab": {
          "base_uri": "https://localhost:8080/",
          "height": 607
        }
      },
      "cell_type": "code",
      "source": [
        "NPS_overtime = kindle[['temp','rating']]\n",
        "NPS_overtime.groupby(by='temp').agg(NPS_eval).plot(figsize=(15,10))"
      ],
      "execution_count": 0,
      "outputs": [
        {
          "output_type": "execute_result",
          "data": {
            "text/plain": [
              "<matplotlib.axes._subplots.AxesSubplot at 0x7fa9af3eb080>"
            ]
          },
          "metadata": {
            "tags": []
          },
          "execution_count": 30
        },
        {
          "output_type": "display_data",
          "data": {
            "image/png": "[encoded data removed]",
            "text/plain": [
              "<Figure size 1080x720 with 1 Axes>"
            ]
          },
          "metadata": {
            "tags": []
          }
        }
      ]
    },
    {
      "metadata": {
        "id": "BKhnOS1GufOg",
        "colab_type": "code",
        "outputId": "ac467a88-2620-411d-87c3-97d4df90f262",
        "colab": {
          "base_uri": "https://localhost:8080/",
          "height": 1341
        }
      },
      "cell_type": "code",
      "source": [
        "NPS_overtime['timeline']= NPS_overtime['temp'].apply(lambda x : (x.month+(12*(x.year-2015))))\n",
        "NPS_by_month= NPS_overtime.groupby(by='timeline').agg(NPS_eval)\n",
        "print(NPS_by_month.plot())\n",
        "NPS_by_month.sort_values(by='rating')"
      ],
      "execution_count": 0,
      "outputs": [
        {
          "output_type": "stream",
          "text": [
            "AxesSubplot(0.125,0.125;0.775x0.755)\n"
          ],
          "name": "stdout"
        },
        {
          "output_type": "stream",
          "text": [
            "/usr/local/lib/python3.6/dist-packages/ipykernel_launcher.py:1: SettingWithCopyWarning: \n",
            "A value is trying to be set on a copy of a slice from a DataFrame.\n",
            "Try using .loc[row_indexer,col_indexer] = value instead\n",
            "\n",
            "See the caveats in the documentation: http://pandas.pydata.org/pandas-docs/stable/indexing.html#indexing-view-versus-copy\n",
            "  \"\"\"Entry point for launching an IPython kernel.\n"
          ],
          "name": "stderr"
        },
        {
          "output_type": "execute_result",
          "data": {
            "text/html": [
              "<div>\n",
              "<style scoped>\n",
              "    .dataframe tbody tr th:only-of-type {\n",
              "        vertical-align: middle;\n",
              "    }\n",
              "\n",
              "    .dataframe tbody tr th {\n",
              "        vertical-align: top;\n",
              "    }\n",
              "\n",
              "    .dataframe thead th {\n",
              "        text-align: right;\n",
              "    }\n",
              "</style>\n",
              "<table border=\"1\" class=\"dataframe\">\n",
              "  <thead>\n",
              "    <tr style=\"text-align: right;\">\n",
              "      <th></th>\n",
              "      <th>rating</th>\n",
              "    </tr>\n",
              "    <tr>\n",
              "      <th>timeline</th>\n",
              "      <th></th>\n",
              "    </tr>\n",
              "  </thead>\n",
              "  <tbody>\n",
              "    <tr>\n",
              "      <th>34</th>\n",
              "      <td>37.500000</td>\n",
              "    </tr>\n",
              "    <tr>\n",
              "      <th>26</th>\n",
              "      <td>62.237762</td>\n",
              "    </tr>\n",
              "    <tr>\n",
              "      <th>25</th>\n",
              "      <td>66.000000</td>\n",
              "    </tr>\n",
              "    <tr>\n",
              "      <th>28</th>\n",
              "      <td>68.918919</td>\n",
              "    </tr>\n",
              "    <tr>\n",
              "      <th>14</th>\n",
              "      <td>69.411765</td>\n",
              "    </tr>\n",
              "    <tr>\n",
              "      <th>20</th>\n",
              "      <td>72.277228</td>\n",
              "    </tr>\n",
              "    <tr>\n",
              "      <th>12</th>\n",
              "      <td>73.000000</td>\n",
              "    </tr>\n",
              "    <tr>\n",
              "      <th>31</th>\n",
              "      <td>74.400000</td>\n",
              "    </tr>\n",
              "    <tr>\n",
              "      <th>21</th>\n",
              "      <td>75.324675</td>\n",
              "    </tr>\n",
              "    <tr>\n",
              "      <th>29</th>\n",
              "      <td>76.000000</td>\n",
              "    </tr>\n",
              "    <tr>\n",
              "      <th>9</th>\n",
              "      <td>76.315789</td>\n",
              "    </tr>\n",
              "    <tr>\n",
              "      <th>23</th>\n",
              "      <td>76.744186</td>\n",
              "    </tr>\n",
              "    <tr>\n",
              "      <th>30</th>\n",
              "      <td>77.622378</td>\n",
              "    </tr>\n",
              "    <tr>\n",
              "      <th>24</th>\n",
              "      <td>78.488372</td>\n",
              "    </tr>\n",
              "    <tr>\n",
              "      <th>17</th>\n",
              "      <td>80.000000</td>\n",
              "    </tr>\n",
              "    <tr>\n",
              "      <th>22</th>\n",
              "      <td>80.000000</td>\n",
              "    </tr>\n",
              "    <tr>\n",
              "      <th>10</th>\n",
              "      <td>80.232558</td>\n",
              "    </tr>\n",
              "    <tr>\n",
              "      <th>13</th>\n",
              "      <td>80.269058</td>\n",
              "    </tr>\n",
              "    <tr>\n",
              "      <th>16</th>\n",
              "      <td>81.481481</td>\n",
              "    </tr>\n",
              "    <tr>\n",
              "      <th>18</th>\n",
              "      <td>81.679389</td>\n",
              "    </tr>\n",
              "    <tr>\n",
              "      <th>19</th>\n",
              "      <td>81.896552</td>\n",
              "    </tr>\n",
              "    <tr>\n",
              "      <th>33</th>\n",
              "      <td>83.333333</td>\n",
              "    </tr>\n",
              "    <tr>\n",
              "      <th>32</th>\n",
              "      <td>83.620690</td>\n",
              "    </tr>\n",
              "    <tr>\n",
              "      <th>15</th>\n",
              "      <td>83.962264</td>\n",
              "    </tr>\n",
              "    <tr>\n",
              "      <th>11</th>\n",
              "      <td>85.227273</td>\n",
              "    </tr>\n",
              "    <tr>\n",
              "      <th>27</th>\n",
              "      <td>85.889571</td>\n",
              "    </tr>\n",
              "    <tr>\n",
              "      <th>7</th>\n",
              "      <td>89.285714</td>\n",
              "    </tr>\n",
              "    <tr>\n",
              "      <th>8</th>\n",
              "      <td>89.655172</td>\n",
              "    </tr>\n",
              "  </tbody>\n",
              "</table>\n",
              "</div>"
            ],
            "text/plain": [
              "             rating\n",
              "timeline           \n",
              "34        37.500000\n",
              "26        62.237762\n",
              "25        66.000000\n",
              "28        68.918919\n",
              "14        69.411765\n",
              "20        72.277228\n",
              "12        73.000000\n",
              "31        74.400000\n",
              "21        75.324675\n",
              "29        76.000000\n",
              "9         76.315789\n",
              "23        76.744186\n",
              "30        77.622378\n",
              "24        78.488372\n",
              "17        80.000000\n",
              "22        80.000000\n",
              "10        80.232558\n",
              "13        80.269058\n",
              "16        81.481481\n",
              "18        81.679389\n",
              "19        81.896552\n",
              "33        83.333333\n",
              "32        83.620690\n",
              "15        83.962264\n",
              "11        85.227273\n",
              "27        85.889571\n",
              "7         89.285714\n",
              "8         89.655172"
            ]
          },
          "metadata": {
            "tags": []
          },
          "execution_count": 31
        },
        {
          "output_type": "display_data",
          "data": {
            "image/png": "[encoded data removed]",
            "text/plain": [
              "<Figure size 432x288 with 1 Axes>"
            ]
          },
          "metadata": {
            "tags": []
          }
        }
      ]
    },
    {
      "metadata": {
        "id": "xmD3-plWukgE",
        "colab_type": "text"
      },
      "cell_type": "markdown",
      "source": [
        "# **7. [Paper white kindle] Predict Recommendations based on reviews content**\n",
        "*  Make a clean function\n",
        "*  Remove punctuations\n",
        "*  Remove stopwords\n",
        "*  Stem vs Lemmatize\n",
        "*  Create a TFIDF vectorizer\n",
        "*  Create Features\n",
        "*  Understand and explore sentiment analysis\n",
        "*  Use compound feature\n",
        "*  Use RandomForestClassifier\n",
        "*  Check the score\n",
        "*  **Can we predict Recommendations with given comments on product ?**"
      ]
    },
    {
      "metadata": {
        "id": "z68Ox4s4ugtF",
        "colab_type": "code",
        "colab": {}
      },
      "cell_type": "code",
      "source": [
        "comments = pd.concat([kindle['text']+\". \"+ kindle['title'],kindle['rating'],kindle['doRecommend']],axis=1)\n",
        "comments.columns=['text','rating','recommend']"
      ],
      "execution_count": 0,
      "outputs": []
    },
    {
      "metadata": {
        "id": "IR_cysKtV_6j",
        "colab_type": "text"
      },
      "cell_type": "markdown",
      "source": [
        "study material for nltk\n",
        "*  https://www.analyticsvidhya.com/blog/2018/02/the-different-methods-deal-text-data-predictive-python/"
      ]
    },
    {
      "metadata": {
        "id": "XXU3POV1u2Wu",
        "colab_type": "code",
        "outputId": "f60dc959-8f94-4de5-a6f1-2c0416f43d31",
        "colab": {
          "base_uri": "https://localhost:8080/",
          "height": 87
        }
      },
      "cell_type": "code",
      "source": [
        "import string\n",
        "import nltk\n",
        "from nltk import PorterStemmer\n",
        "import re \n",
        "\n",
        "nltk.download('stopwords')\n",
        "nltk.download('wordnet')\n",
        "\n",
        "stopwords = nltk.corpus.stopwords.words('english')\n",
        "ps = PorterStemmer()\n",
        "wn = nltk.WordNetLemmatizer()\n",
        "\n",
        "\n",
        "def clean_stem (sent): \n",
        "    temp1 =\"\".join(x for x in sent if x not in string.punctuation)\n",
        "    temp2 = re.split('\\W+',temp1.lower())\n",
        "    temp3 = [ps.stem(x) for x in temp2 if x not in stopwords]\n",
        "    return temp3\n",
        "\n",
        "def clean_lemma (sent): \n",
        "    temp1 =\"\".join(x for x in sent if x not in string.punctuation)\n",
        "    temp2 = re.split('\\W+',temp1.lower())\n",
        "    temp3 = [wn.lemmatize(x) for x in temp2 if x not in stopwords]\n",
        "    return temp3\n",
        "\n",
        "text=\"Hello this is, my happiest place. organize, organizes, and organizing in Happy world ! with happiness ..\\\n",
        "so much of happy!! \"\n",
        "\n"
      ],
      "execution_count": 0,
      "outputs": [
        {
          "output_type": "stream",
          "text": [
            "[nltk_data] Downloading package stopwords to /root/nltk_data...\n",
            "[nltk_data]   Package stopwords is already up-to-date!\n",
            "[nltk_data] Downloading package wordnet to /root/nltk_data...\n",
            "[nltk_data]   Unzipping corpora/wordnet.zip.\n"
          ],
          "name": "stdout"
        }
      ]
    },
    {
      "metadata": {
        "id": "4EmXhuFVLK9X",
        "colab_type": "code",
        "outputId": "ac3c994b-2fb3-444b-a1d6-ea5e2f78fde3",
        "colab": {
          "base_uri": "https://localhost:8080/",
          "height": 72
        }
      },
      "cell_type": "code",
      "source": [
        "print(clean_stem(text))\n",
        "#print(\"Lemmatized \" + \"-\".join(clean_lemma(text))\n",
        "print(clean_lemma(text))"
      ],
      "execution_count": 0,
      "outputs": [
        {
          "output_type": "stream",
          "text": [
            "['hello', 'happiest', 'place', 'organ', 'organ', 'organ', 'happi', 'world', 'happi', 'much', 'happi', '']\n",
            "['hello', 'happiest', 'place', 'organize', 'organizes', 'organizing', 'happy', 'world', 'happiness', 'much', 'happy', '']\n"
          ],
          "name": "stdout"
        }
      ]
    },
    {
      "metadata": {
        "id": "EF_-EyjvP_hp",
        "colab_type": "text"
      },
      "cell_type": "markdown",
      "source": [
        "Lets create vectors from the text columns"
      ]
    },
    {
      "metadata": {
        "id": "6Z7Zpt7jvjOu",
        "colab_type": "code",
        "outputId": "e88d23e6-2b6f-4bd5-ea2c-4371d3c9441a",
        "colab": {
          "base_uri": "https://localhost:8080/",
          "height": 87
        }
      },
      "cell_type": "code",
      "source": [
        "from sklearn.feature_extraction.text import TfidfVectorizer\n",
        "nltk.download('wordnet')\n",
        "\n",
        "vectstem = TfidfVectorizer(analyzer=clean_stem)\n",
        "vectlemm = TfidfVectorizer(analyzer=clean_lemma)\n",
        "\n",
        "textfeatures=vectstem.fit_transform(comments['text'])\n",
        "print(\"Stemmed - \" + str(len(vectstem.get_feature_names())))\n",
        "\n",
        "vectlemm.fit_transform(comments['text'])\n",
        "print(\"Lemmatized - \" + str(len(vectlemm.get_feature_names())))"
      ],
      "execution_count": 0,
      "outputs": [
        {
          "output_type": "stream",
          "text": [
            "[nltk_data] Downloading package wordnet to /root/nltk_data...\n",
            "[nltk_data]   Package wordnet is already up-to-date!\n",
            "Stemmed - 3693\n",
            "Lemmatized - 4547\n"
          ],
          "name": "stdout"
        }
      ]
    },
    {
      "metadata": {
        "id": "HNuXwuAhQGzz",
        "colab_type": "text"
      },
      "cell_type": "markdown",
      "source": [
        "Stemmed has features 18 % lower than that of Lemmatized."
      ]
    },
    {
      "metadata": {
        "id": "Hfn1kgNoQKGz",
        "colab_type": "text"
      },
      "cell_type": "markdown",
      "source": [
        "- In the above example in happy line, you can see how ineffective lemmatization can be \n",
        "- Thus we will be applying cleanstem algo here\n",
        "- Lower features means more information density in the compressed columns"
      ]
    },
    {
      "metadata": {
        "id": "PqOybLkjQOMU",
        "colab_type": "text"
      },
      "cell_type": "markdown",
      "source": [
        "Lets have a look on our stemmed data"
      ]
    },
    {
      "metadata": {
        "id": "p3IxUIWKJyDP",
        "colab_type": "code",
        "outputId": "f9c7955a-b0fc-4fe6-e663-07dd8738adae",
        "colab": {
          "base_uri": "https://localhost:8080/",
          "height": 558
        }
      },
      "cell_type": "code",
      "source": [
        "pd.DataFrame(textfeatures.toarray()).head(15)"
      ],
      "execution_count": 0,
      "outputs": [
        {
          "output_type": "execute_result",
          "data": {
            "text/html": [
              "<div>\n",
              "<style scoped>\n",
              "    .dataframe tbody tr th:only-of-type {\n",
              "        vertical-align: middle;\n",
              "    }\n",
              "\n",
              "    .dataframe tbody tr th {\n",
              "        vertical-align: top;\n",
              "    }\n",
              "\n",
              "    .dataframe thead th {\n",
              "        text-align: right;\n",
              "    }\n",
              "</style>\n",
              "<table border=\"1\" class=\"dataframe\">\n",
              "  <thead>\n",
              "    <tr style=\"text-align: right;\">\n",
              "      <th></th>\n",
              "      <th>0</th>\n",
              "      <th>1</th>\n",
              "      <th>2</th>\n",
              "      <th>3</th>\n",
              "      <th>4</th>\n",
              "      <th>5</th>\n",
              "      <th>6</th>\n",
              "      <th>7</th>\n",
              "      <th>8</th>\n",
              "      <th>9</th>\n",
              "      <th>...</th>\n",
              "      <th>3683</th>\n",
              "      <th>3684</th>\n",
              "      <th>3685</th>\n",
              "      <th>3686</th>\n",
              "      <th>3687</th>\n",
              "      <th>3688</th>\n",
              "      <th>3689</th>\n",
              "      <th>3690</th>\n",
              "      <th>3691</th>\n",
              "      <th>3692</th>\n",
              "    </tr>\n",
              "  </thead>\n",
              "  <tbody>\n",
              "    <tr>\n",
              "      <th>0</th>\n",
              "      <td>0.0</td>\n",
              "      <td>0.0</td>\n",
              "      <td>0.0</td>\n",
              "      <td>0.0</td>\n",
              "      <td>0.0</td>\n",
              "      <td>0.0</td>\n",
              "      <td>0.0</td>\n",
              "      <td>0.0</td>\n",
              "      <td>0.0</td>\n",
              "      <td>0.0</td>\n",
              "      <td>...</td>\n",
              "      <td>0.0</td>\n",
              "      <td>0.0</td>\n",
              "      <td>0.0</td>\n",
              "      <td>0.0</td>\n",
              "      <td>0.0</td>\n",
              "      <td>0.0</td>\n",
              "      <td>0.0</td>\n",
              "      <td>0.0</td>\n",
              "      <td>0.0</td>\n",
              "      <td>0.0</td>\n",
              "    </tr>\n",
              "    <tr>\n",
              "      <th>1</th>\n",
              "      <td>0.0</td>\n",
              "      <td>0.0</td>\n",
              "      <td>0.0</td>\n",
              "      <td>0.0</td>\n",
              "      <td>0.0</td>\n",
              "      <td>0.0</td>\n",
              "      <td>0.0</td>\n",
              "      <td>0.0</td>\n",
              "      <td>0.0</td>\n",
              "      <td>0.0</td>\n",
              "      <td>...</td>\n",
              "      <td>0.0</td>\n",
              "      <td>0.0</td>\n",
              "      <td>0.0</td>\n",
              "      <td>0.0</td>\n",
              "      <td>0.0</td>\n",
              "      <td>0.0</td>\n",
              "      <td>0.0</td>\n",
              "      <td>0.0</td>\n",
              "      <td>0.0</td>\n",
              "      <td>0.0</td>\n",
              "    </tr>\n",
              "    <tr>\n",
              "      <th>2</th>\n",
              "      <td>0.0</td>\n",
              "      <td>0.0</td>\n",
              "      <td>0.0</td>\n",
              "      <td>0.0</td>\n",
              "      <td>0.0</td>\n",
              "      <td>0.0</td>\n",
              "      <td>0.0</td>\n",
              "      <td>0.0</td>\n",
              "      <td>0.0</td>\n",
              "      <td>0.0</td>\n",
              "      <td>...</td>\n",
              "      <td>0.0</td>\n",
              "      <td>0.0</td>\n",
              "      <td>0.0</td>\n",
              "      <td>0.0</td>\n",
              "      <td>0.0</td>\n",
              "      <td>0.0</td>\n",
              "      <td>0.0</td>\n",
              "      <td>0.0</td>\n",
              "      <td>0.0</td>\n",
              "      <td>0.0</td>\n",
              "    </tr>\n",
              "    <tr>\n",
              "      <th>3</th>\n",
              "      <td>0.0</td>\n",
              "      <td>0.0</td>\n",
              "      <td>0.0</td>\n",
              "      <td>0.0</td>\n",
              "      <td>0.0</td>\n",
              "      <td>0.0</td>\n",
              "      <td>0.0</td>\n",
              "      <td>0.0</td>\n",
              "      <td>0.0</td>\n",
              "      <td>0.0</td>\n",
              "      <td>...</td>\n",
              "      <td>0.0</td>\n",
              "      <td>0.0</td>\n",
              "      <td>0.0</td>\n",
              "      <td>0.0</td>\n",
              "      <td>0.0</td>\n",
              "      <td>0.0</td>\n",
              "      <td>0.0</td>\n",
              "      <td>0.0</td>\n",
              "      <td>0.0</td>\n",
              "      <td>0.0</td>\n",
              "    </tr>\n",
              "    <tr>\n",
              "      <th>4</th>\n",
              "      <td>0.0</td>\n",
              "      <td>0.0</td>\n",
              "      <td>0.0</td>\n",
              "      <td>0.0</td>\n",
              "      <td>0.0</td>\n",
              "      <td>0.0</td>\n",
              "      <td>0.0</td>\n",
              "      <td>0.0</td>\n",
              "      <td>0.0</td>\n",
              "      <td>0.0</td>\n",
              "      <td>...</td>\n",
              "      <td>0.0</td>\n",
              "      <td>0.0</td>\n",
              "      <td>0.0</td>\n",
              "      <td>0.0</td>\n",
              "      <td>0.0</td>\n",
              "      <td>0.0</td>\n",
              "      <td>0.0</td>\n",
              "      <td>0.0</td>\n",
              "      <td>0.0</td>\n",
              "      <td>0.0</td>\n",
              "    </tr>\n",
              "    <tr>\n",
              "      <th>5</th>\n",
              "      <td>0.0</td>\n",
              "      <td>0.0</td>\n",
              "      <td>0.0</td>\n",
              "      <td>0.0</td>\n",
              "      <td>0.0</td>\n",
              "      <td>0.0</td>\n",
              "      <td>0.0</td>\n",
              "      <td>0.0</td>\n",
              "      <td>0.0</td>\n",
              "      <td>0.0</td>\n",
              "      <td>...</td>\n",
              "      <td>0.0</td>\n",
              "      <td>0.0</td>\n",
              "      <td>0.0</td>\n",
              "      <td>0.0</td>\n",
              "      <td>0.0</td>\n",
              "      <td>0.0</td>\n",
              "      <td>0.0</td>\n",
              "      <td>0.0</td>\n",
              "      <td>0.0</td>\n",
              "      <td>0.0</td>\n",
              "    </tr>\n",
              "    <tr>\n",
              "      <th>6</th>\n",
              "      <td>0.0</td>\n",
              "      <td>0.0</td>\n",
              "      <td>0.0</td>\n",
              "      <td>0.0</td>\n",
              "      <td>0.0</td>\n",
              "      <td>0.0</td>\n",
              "      <td>0.0</td>\n",
              "      <td>0.0</td>\n",
              "      <td>0.0</td>\n",
              "      <td>0.0</td>\n",
              "      <td>...</td>\n",
              "      <td>0.0</td>\n",
              "      <td>0.0</td>\n",
              "      <td>0.0</td>\n",
              "      <td>0.0</td>\n",
              "      <td>0.0</td>\n",
              "      <td>0.0</td>\n",
              "      <td>0.0</td>\n",
              "      <td>0.0</td>\n",
              "      <td>0.0</td>\n",
              "      <td>0.0</td>\n",
              "    </tr>\n",
              "    <tr>\n",
              "      <th>7</th>\n",
              "      <td>0.0</td>\n",
              "      <td>0.0</td>\n",
              "      <td>0.0</td>\n",
              "      <td>0.0</td>\n",
              "      <td>0.0</td>\n",
              "      <td>0.0</td>\n",
              "      <td>0.0</td>\n",
              "      <td>0.0</td>\n",
              "      <td>0.0</td>\n",
              "      <td>0.0</td>\n",
              "      <td>...</td>\n",
              "      <td>0.0</td>\n",
              "      <td>0.0</td>\n",
              "      <td>0.0</td>\n",
              "      <td>0.0</td>\n",
              "      <td>0.0</td>\n",
              "      <td>0.0</td>\n",
              "      <td>0.0</td>\n",
              "      <td>0.0</td>\n",
              "      <td>0.0</td>\n",
              "      <td>0.0</td>\n",
              "    </tr>\n",
              "    <tr>\n",
              "      <th>8</th>\n",
              "      <td>0.0</td>\n",
              "      <td>0.0</td>\n",
              "      <td>0.0</td>\n",
              "      <td>0.0</td>\n",
              "      <td>0.0</td>\n",
              "      <td>0.0</td>\n",
              "      <td>0.0</td>\n",
              "      <td>0.0</td>\n",
              "      <td>0.0</td>\n",
              "      <td>0.0</td>\n",
              "      <td>...</td>\n",
              "      <td>0.0</td>\n",
              "      <td>0.0</td>\n",
              "      <td>0.0</td>\n",
              "      <td>0.0</td>\n",
              "      <td>0.0</td>\n",
              "      <td>0.0</td>\n",
              "      <td>0.0</td>\n",
              "      <td>0.0</td>\n",
              "      <td>0.0</td>\n",
              "      <td>0.0</td>\n",
              "    </tr>\n",
              "    <tr>\n",
              "      <th>9</th>\n",
              "      <td>0.0</td>\n",
              "      <td>0.0</td>\n",
              "      <td>0.0</td>\n",
              "      <td>0.0</td>\n",
              "      <td>0.0</td>\n",
              "      <td>0.0</td>\n",
              "      <td>0.0</td>\n",
              "      <td>0.0</td>\n",
              "      <td>0.0</td>\n",
              "      <td>0.0</td>\n",
              "      <td>...</td>\n",
              "      <td>0.0</td>\n",
              "      <td>0.0</td>\n",
              "      <td>0.0</td>\n",
              "      <td>0.0</td>\n",
              "      <td>0.0</td>\n",
              "      <td>0.0</td>\n",
              "      <td>0.0</td>\n",
              "      <td>0.0</td>\n",
              "      <td>0.0</td>\n",
              "      <td>0.0</td>\n",
              "    </tr>\n",
              "    <tr>\n",
              "      <th>10</th>\n",
              "      <td>0.0</td>\n",
              "      <td>0.0</td>\n",
              "      <td>0.0</td>\n",
              "      <td>0.0</td>\n",
              "      <td>0.0</td>\n",
              "      <td>0.0</td>\n",
              "      <td>0.0</td>\n",
              "      <td>0.0</td>\n",
              "      <td>0.0</td>\n",
              "      <td>0.0</td>\n",
              "      <td>...</td>\n",
              "      <td>0.0</td>\n",
              "      <td>0.0</td>\n",
              "      <td>0.0</td>\n",
              "      <td>0.0</td>\n",
              "      <td>0.0</td>\n",
              "      <td>0.0</td>\n",
              "      <td>0.0</td>\n",
              "      <td>0.0</td>\n",
              "      <td>0.0</td>\n",
              "      <td>0.0</td>\n",
              "    </tr>\n",
              "    <tr>\n",
              "      <th>11</th>\n",
              "      <td>0.0</td>\n",
              "      <td>0.0</td>\n",
              "      <td>0.0</td>\n",
              "      <td>0.0</td>\n",
              "      <td>0.0</td>\n",
              "      <td>0.0</td>\n",
              "      <td>0.0</td>\n",
              "      <td>0.0</td>\n",
              "      <td>0.0</td>\n",
              "      <td>0.0</td>\n",
              "      <td>...</td>\n",
              "      <td>0.0</td>\n",
              "      <td>0.0</td>\n",
              "      <td>0.0</td>\n",
              "      <td>0.0</td>\n",
              "      <td>0.0</td>\n",
              "      <td>0.0</td>\n",
              "      <td>0.0</td>\n",
              "      <td>0.0</td>\n",
              "      <td>0.0</td>\n",
              "      <td>0.0</td>\n",
              "    </tr>\n",
              "    <tr>\n",
              "      <th>12</th>\n",
              "      <td>0.0</td>\n",
              "      <td>0.0</td>\n",
              "      <td>0.0</td>\n",
              "      <td>0.0</td>\n",
              "      <td>0.0</td>\n",
              "      <td>0.0</td>\n",
              "      <td>0.0</td>\n",
              "      <td>0.0</td>\n",
              "      <td>0.0</td>\n",
              "      <td>0.0</td>\n",
              "      <td>...</td>\n",
              "      <td>0.0</td>\n",
              "      <td>0.0</td>\n",
              "      <td>0.0</td>\n",
              "      <td>0.0</td>\n",
              "      <td>0.0</td>\n",
              "      <td>0.0</td>\n",
              "      <td>0.0</td>\n",
              "      <td>0.0</td>\n",
              "      <td>0.0</td>\n",
              "      <td>0.0</td>\n",
              "    </tr>\n",
              "    <tr>\n",
              "      <th>13</th>\n",
              "      <td>0.0</td>\n",
              "      <td>0.0</td>\n",
              "      <td>0.0</td>\n",
              "      <td>0.0</td>\n",
              "      <td>0.0</td>\n",
              "      <td>0.0</td>\n",
              "      <td>0.0</td>\n",
              "      <td>0.0</td>\n",
              "      <td>0.0</td>\n",
              "      <td>0.0</td>\n",
              "      <td>...</td>\n",
              "      <td>0.0</td>\n",
              "      <td>0.0</td>\n",
              "      <td>0.0</td>\n",
              "      <td>0.0</td>\n",
              "      <td>0.0</td>\n",
              "      <td>0.0</td>\n",
              "      <td>0.0</td>\n",
              "      <td>0.0</td>\n",
              "      <td>0.0</td>\n",
              "      <td>0.0</td>\n",
              "    </tr>\n",
              "    <tr>\n",
              "      <th>14</th>\n",
              "      <td>0.0</td>\n",
              "      <td>0.0</td>\n",
              "      <td>0.0</td>\n",
              "      <td>0.0</td>\n",
              "      <td>0.0</td>\n",
              "      <td>0.0</td>\n",
              "      <td>0.0</td>\n",
              "      <td>0.0</td>\n",
              "      <td>0.0</td>\n",
              "      <td>0.0</td>\n",
              "      <td>...</td>\n",
              "      <td>0.0</td>\n",
              "      <td>0.0</td>\n",
              "      <td>0.0</td>\n",
              "      <td>0.0</td>\n",
              "      <td>0.0</td>\n",
              "      <td>0.0</td>\n",
              "      <td>0.0</td>\n",
              "      <td>0.0</td>\n",
              "      <td>0.0</td>\n",
              "      <td>0.0</td>\n",
              "    </tr>\n",
              "  </tbody>\n",
              "</table>\n",
              "<p>15 rows × 3693 columns</p>\n",
              "</div>"
            ],
            "text/plain": [
              "    0     1     2     3     4     5     6     7     8     9     ...   3683  \\\n",
              "0    0.0   0.0   0.0   0.0   0.0   0.0   0.0   0.0   0.0   0.0  ...    0.0   \n",
              "1    0.0   0.0   0.0   0.0   0.0   0.0   0.0   0.0   0.0   0.0  ...    0.0   \n",
              "2    0.0   0.0   0.0   0.0   0.0   0.0   0.0   0.0   0.0   0.0  ...    0.0   \n",
              "3    0.0   0.0   0.0   0.0   0.0   0.0   0.0   0.0   0.0   0.0  ...    0.0   \n",
              "4    0.0   0.0   0.0   0.0   0.0   0.0   0.0   0.0   0.0   0.0  ...    0.0   \n",
              "5    0.0   0.0   0.0   0.0   0.0   0.0   0.0   0.0   0.0   0.0  ...    0.0   \n",
              "6    0.0   0.0   0.0   0.0   0.0   0.0   0.0   0.0   0.0   0.0  ...    0.0   \n",
              "7    0.0   0.0   0.0   0.0   0.0   0.0   0.0   0.0   0.0   0.0  ...    0.0   \n",
              "8    0.0   0.0   0.0   0.0   0.0   0.0   0.0   0.0   0.0   0.0  ...    0.0   \n",
              "9    0.0   0.0   0.0   0.0   0.0   0.0   0.0   0.0   0.0   0.0  ...    0.0   \n",
              "10   0.0   0.0   0.0   0.0   0.0   0.0   0.0   0.0   0.0   0.0  ...    0.0   \n",
              "11   0.0   0.0   0.0   0.0   0.0   0.0   0.0   0.0   0.0   0.0  ...    0.0   \n",
              "12   0.0   0.0   0.0   0.0   0.0   0.0   0.0   0.0   0.0   0.0  ...    0.0   \n",
              "13   0.0   0.0   0.0   0.0   0.0   0.0   0.0   0.0   0.0   0.0  ...    0.0   \n",
              "14   0.0   0.0   0.0   0.0   0.0   0.0   0.0   0.0   0.0   0.0  ...    0.0   \n",
              "\n",
              "    3684  3685  3686  3687  3688  3689  3690  3691  3692  \n",
              "0    0.0   0.0   0.0   0.0   0.0   0.0   0.0   0.0   0.0  \n",
              "1    0.0   0.0   0.0   0.0   0.0   0.0   0.0   0.0   0.0  \n",
              "2    0.0   0.0   0.0   0.0   0.0   0.0   0.0   0.0   0.0  \n",
              "3    0.0   0.0   0.0   0.0   0.0   0.0   0.0   0.0   0.0  \n",
              "4    0.0   0.0   0.0   0.0   0.0   0.0   0.0   0.0   0.0  \n",
              "5    0.0   0.0   0.0   0.0   0.0   0.0   0.0   0.0   0.0  \n",
              "6    0.0   0.0   0.0   0.0   0.0   0.0   0.0   0.0   0.0  \n",
              "7    0.0   0.0   0.0   0.0   0.0   0.0   0.0   0.0   0.0  \n",
              "8    0.0   0.0   0.0   0.0   0.0   0.0   0.0   0.0   0.0  \n",
              "9    0.0   0.0   0.0   0.0   0.0   0.0   0.0   0.0   0.0  \n",
              "10   0.0   0.0   0.0   0.0   0.0   0.0   0.0   0.0   0.0  \n",
              "11   0.0   0.0   0.0   0.0   0.0   0.0   0.0   0.0   0.0  \n",
              "12   0.0   0.0   0.0   0.0   0.0   0.0   0.0   0.0   0.0  \n",
              "13   0.0   0.0   0.0   0.0   0.0   0.0   0.0   0.0   0.0  \n",
              "14   0.0   0.0   0.0   0.0   0.0   0.0   0.0   0.0   0.0  \n",
              "\n",
              "[15 rows x 3693 columns]"
            ]
          },
          "metadata": {
            "tags": []
          },
          "execution_count": 39
        }
      ]
    },
    {
      "metadata": {
        "id": "Vwn7_c88QT0_",
        "colab_type": "text"
      },
      "cell_type": "markdown",
      "source": [
        "The column names dont make sense - Need to update them with real words\n",
        "- for this we use vectstem.vocabulary_ to modify the columns"
      ]
    },
    {
      "metadata": {
        "id": "pJMTEKFNQRH5",
        "colab_type": "code",
        "outputId": "f61d31fe-04c6-40ec-b3f6-a34bea4fde25",
        "colab": {
          "base_uri": "https://localhost:8080/",
          "height": 251
        }
      },
      "cell_type": "code",
      "source": [
        "textmatrix = pd.DataFrame(textfeatures.toarray(),columns=vectstem.vocabulary_)\n",
        "textmatrix.head(5)"
      ],
      "execution_count": 0,
      "outputs": [
        {
          "output_type": "execute_result",
          "data": {
            "text/html": [
              "<div>\n",
              "<style scoped>\n",
              "    .dataframe tbody tr th:only-of-type {\n",
              "        vertical-align: middle;\n",
              "    }\n",
              "\n",
              "    .dataframe tbody tr th {\n",
              "        vertical-align: top;\n",
              "    }\n",
              "\n",
              "    .dataframe thead th {\n",
              "        text-align: right;\n",
              "    }\n",
              "</style>\n",
              "<table border=\"1\" class=\"dataframe\">\n",
              "  <thead>\n",
              "    <tr style=\"text-align: right;\">\n",
              "      <th></th>\n",
              "      <th>nice</th>\n",
              "      <th>littl</th>\n",
              "      <th>set</th>\n",
              "      <th>slow</th>\n",
              "      <th>wish</th>\n",
              "      <th>would</th>\n",
              "      <th>investig</th>\n",
              "      <th>jump</th>\n",
              "      <th>like</th>\n",
              "      <th>long</th>\n",
              "      <th>...</th>\n",
              "      <th>git</th>\n",
              "      <th>vovag</th>\n",
              "      <th>sinpl</th>\n",
              "      <th>purpl</th>\n",
              "      <th>write</th>\n",
              "      <th>optioni</th>\n",
              "      <th>blackveri</th>\n",
              "      <th>onesveri</th>\n",
              "      <th>reliab</th>\n",
              "      <th>glich</th>\n",
              "    </tr>\n",
              "  </thead>\n",
              "  <tbody>\n",
              "    <tr>\n",
              "      <th>0</th>\n",
              "      <td>0.0</td>\n",
              "      <td>0.0</td>\n",
              "      <td>0.0</td>\n",
              "      <td>0.0</td>\n",
              "      <td>0.0</td>\n",
              "      <td>0.0</td>\n",
              "      <td>0.0</td>\n",
              "      <td>0.0</td>\n",
              "      <td>0.0</td>\n",
              "      <td>0.0</td>\n",
              "      <td>...</td>\n",
              "      <td>0.0</td>\n",
              "      <td>0.0</td>\n",
              "      <td>0.0</td>\n",
              "      <td>0.0</td>\n",
              "      <td>0.0</td>\n",
              "      <td>0.0</td>\n",
              "      <td>0.0</td>\n",
              "      <td>0.0</td>\n",
              "      <td>0.0</td>\n",
              "      <td>0.0</td>\n",
              "    </tr>\n",
              "    <tr>\n",
              "      <th>1</th>\n",
              "      <td>0.0</td>\n",
              "      <td>0.0</td>\n",
              "      <td>0.0</td>\n",
              "      <td>0.0</td>\n",
              "      <td>0.0</td>\n",
              "      <td>0.0</td>\n",
              "      <td>0.0</td>\n",
              "      <td>0.0</td>\n",
              "      <td>0.0</td>\n",
              "      <td>0.0</td>\n",
              "      <td>...</td>\n",
              "      <td>0.0</td>\n",
              "      <td>0.0</td>\n",
              "      <td>0.0</td>\n",
              "      <td>0.0</td>\n",
              "      <td>0.0</td>\n",
              "      <td>0.0</td>\n",
              "      <td>0.0</td>\n",
              "      <td>0.0</td>\n",
              "      <td>0.0</td>\n",
              "      <td>0.0</td>\n",
              "    </tr>\n",
              "    <tr>\n",
              "      <th>2</th>\n",
              "      <td>0.0</td>\n",
              "      <td>0.0</td>\n",
              "      <td>0.0</td>\n",
              "      <td>0.0</td>\n",
              "      <td>0.0</td>\n",
              "      <td>0.0</td>\n",
              "      <td>0.0</td>\n",
              "      <td>0.0</td>\n",
              "      <td>0.0</td>\n",
              "      <td>0.0</td>\n",
              "      <td>...</td>\n",
              "      <td>0.0</td>\n",
              "      <td>0.0</td>\n",
              "      <td>0.0</td>\n",
              "      <td>0.0</td>\n",
              "      <td>0.0</td>\n",
              "      <td>0.0</td>\n",
              "      <td>0.0</td>\n",
              "      <td>0.0</td>\n",
              "      <td>0.0</td>\n",
              "      <td>0.0</td>\n",
              "    </tr>\n",
              "    <tr>\n",
              "      <th>3</th>\n",
              "      <td>0.0</td>\n",
              "      <td>0.0</td>\n",
              "      <td>0.0</td>\n",
              "      <td>0.0</td>\n",
              "      <td>0.0</td>\n",
              "      <td>0.0</td>\n",
              "      <td>0.0</td>\n",
              "      <td>0.0</td>\n",
              "      <td>0.0</td>\n",
              "      <td>0.0</td>\n",
              "      <td>...</td>\n",
              "      <td>0.0</td>\n",
              "      <td>0.0</td>\n",
              "      <td>0.0</td>\n",
              "      <td>0.0</td>\n",
              "      <td>0.0</td>\n",
              "      <td>0.0</td>\n",
              "      <td>0.0</td>\n",
              "      <td>0.0</td>\n",
              "      <td>0.0</td>\n",
              "      <td>0.0</td>\n",
              "    </tr>\n",
              "    <tr>\n",
              "      <th>4</th>\n",
              "      <td>0.0</td>\n",
              "      <td>0.0</td>\n",
              "      <td>0.0</td>\n",
              "      <td>0.0</td>\n",
              "      <td>0.0</td>\n",
              "      <td>0.0</td>\n",
              "      <td>0.0</td>\n",
              "      <td>0.0</td>\n",
              "      <td>0.0</td>\n",
              "      <td>0.0</td>\n",
              "      <td>...</td>\n",
              "      <td>0.0</td>\n",
              "      <td>0.0</td>\n",
              "      <td>0.0</td>\n",
              "      <td>0.0</td>\n",
              "      <td>0.0</td>\n",
              "      <td>0.0</td>\n",
              "      <td>0.0</td>\n",
              "      <td>0.0</td>\n",
              "      <td>0.0</td>\n",
              "      <td>0.0</td>\n",
              "    </tr>\n",
              "  </tbody>\n",
              "</table>\n",
              "<p>5 rows × 3693 columns</p>\n",
              "</div>"
            ],
            "text/plain": [
              "   nice  littl  set  slow  wish  would  investig  jump  like  long  ...    \\\n",
              "0   0.0    0.0  0.0   0.0   0.0    0.0       0.0   0.0   0.0   0.0  ...     \n",
              "1   0.0    0.0  0.0   0.0   0.0    0.0       0.0   0.0   0.0   0.0  ...     \n",
              "2   0.0    0.0  0.0   0.0   0.0    0.0       0.0   0.0   0.0   0.0  ...     \n",
              "3   0.0    0.0  0.0   0.0   0.0    0.0       0.0   0.0   0.0   0.0  ...     \n",
              "4   0.0    0.0  0.0   0.0   0.0    0.0       0.0   0.0   0.0   0.0  ...     \n",
              "\n",
              "   git  vovag  sinpl  purpl  write  optioni  blackveri  onesveri  reliab  \\\n",
              "0  0.0    0.0    0.0    0.0    0.0      0.0        0.0       0.0     0.0   \n",
              "1  0.0    0.0    0.0    0.0    0.0      0.0        0.0       0.0     0.0   \n",
              "2  0.0    0.0    0.0    0.0    0.0      0.0        0.0       0.0     0.0   \n",
              "3  0.0    0.0    0.0    0.0    0.0      0.0        0.0       0.0     0.0   \n",
              "4  0.0    0.0    0.0    0.0    0.0      0.0        0.0       0.0     0.0   \n",
              "\n",
              "   glich  \n",
              "0    0.0  \n",
              "1    0.0  \n",
              "2    0.0  \n",
              "3    0.0  \n",
              "4    0.0  \n",
              "\n",
              "[5 rows x 3693 columns]"
            ]
          },
          "metadata": {
            "tags": []
          },
          "execution_count": 40
        }
      ]
    },
    {
      "metadata": {
        "id": "xLBPgPtAQdRg",
        "colab_type": "code",
        "outputId": "a0da17f6-3832-4fb9-b2cd-728bca0bfbd8",
        "colab": {
          "base_uri": "https://localhost:8080/",
          "height": 355
        }
      },
      "cell_type": "code",
      "source": [
        "sum_scores = pd.DataFrame(textmatrix.sum(),columns=['sum_scores_TFIDF'])\n",
        "sum_scores.head(10)"
      ],
      "execution_count": 0,
      "outputs": [
        {
          "output_type": "execute_result",
          "data": {
            "text/html": [
              "<div>\n",
              "<style scoped>\n",
              "    .dataframe tbody tr th:only-of-type {\n",
              "        vertical-align: middle;\n",
              "    }\n",
              "\n",
              "    .dataframe tbody tr th {\n",
              "        vertical-align: top;\n",
              "    }\n",
              "\n",
              "    .dataframe thead th {\n",
              "        text-align: right;\n",
              "    }\n",
              "</style>\n",
              "<table border=\"1\" class=\"dataframe\">\n",
              "  <thead>\n",
              "    <tr style=\"text-align: right;\">\n",
              "      <th></th>\n",
              "      <th>sum_scores_TFIDF</th>\n",
              "    </tr>\n",
              "  </thead>\n",
              "  <tbody>\n",
              "    <tr>\n",
              "      <th>nice</th>\n",
              "      <td>4.242392</td>\n",
              "    </tr>\n",
              "    <tr>\n",
              "      <th>littl</th>\n",
              "      <td>0.338632</td>\n",
              "    </tr>\n",
              "    <tr>\n",
              "      <th>set</th>\n",
              "      <td>0.515145</td>\n",
              "    </tr>\n",
              "    <tr>\n",
              "      <th>slow</th>\n",
              "      <td>4.349600</td>\n",
              "    </tr>\n",
              "    <tr>\n",
              "      <th>wish</th>\n",
              "      <td>4.576738</td>\n",
              "    </tr>\n",
              "    <tr>\n",
              "      <th>would</th>\n",
              "      <td>3.383977</td>\n",
              "    </tr>\n",
              "    <tr>\n",
              "      <th>investig</th>\n",
              "      <td>0.990953</td>\n",
              "    </tr>\n",
              "    <tr>\n",
              "      <th>jump</th>\n",
              "      <td>0.179253</td>\n",
              "    </tr>\n",
              "    <tr>\n",
              "      <th>like</th>\n",
              "      <td>0.145790</td>\n",
              "    </tr>\n",
              "    <tr>\n",
              "      <th>long</th>\n",
              "      <td>0.381124</td>\n",
              "    </tr>\n",
              "  </tbody>\n",
              "</table>\n",
              "</div>"
            ],
            "text/plain": [
              "          sum_scores_TFIDF\n",
              "nice              4.242392\n",
              "littl             0.338632\n",
              "set               0.515145\n",
              "slow              4.349600\n",
              "wish              4.576738\n",
              "would             3.383977\n",
              "investig          0.990953\n",
              "jump              0.179253\n",
              "like              0.145790\n",
              "long              0.381124"
            ]
          },
          "metadata": {
            "tags": []
          },
          "execution_count": 41
        }
      ]
    },
    {
      "metadata": {
        "id": "MtysZ-2uQe-C",
        "colab_type": "code",
        "outputId": "c4c4fa5e-84a8-463e-b413-cd4aaeb55ad3",
        "colab": {
          "base_uri": "https://localhost:8080/",
          "height": 202
        }
      },
      "cell_type": "code",
      "source": [
        "# Need to see most important words in the reviews\n",
        "# words used by many people or less frequent in sentences\n",
        "sum_scores.sort_values(by='sum_scores_TFIDF',ascending=True)[:5]"
      ],
      "execution_count": 0,
      "outputs": [
        {
          "output_type": "execute_result",
          "data": {
            "text/html": [
              "<div>\n",
              "<style scoped>\n",
              "    .dataframe tbody tr th:only-of-type {\n",
              "        vertical-align: middle;\n",
              "    }\n",
              "\n",
              "    .dataframe tbody tr th {\n",
              "        vertical-align: top;\n",
              "    }\n",
              "\n",
              "    .dataframe thead th {\n",
              "        text-align: right;\n",
              "    }\n",
              "</style>\n",
              "<table border=\"1\" class=\"dataframe\">\n",
              "  <thead>\n",
              "    <tr style=\"text-align: right;\">\n",
              "      <th></th>\n",
              "      <th>sum_scores_TFIDF</th>\n",
              "    </tr>\n",
              "  </thead>\n",
              "  <tbody>\n",
              "    <tr>\n",
              "      <th>gripe</th>\n",
              "      <td>0.076083</td>\n",
              "    </tr>\n",
              "    <tr>\n",
              "      <th>grandkid</th>\n",
              "      <td>0.076083</td>\n",
              "    </tr>\n",
              "    <tr>\n",
              "      <th>old</th>\n",
              "      <td>0.076083</td>\n",
              "    </tr>\n",
              "    <tr>\n",
              "      <th>cow</th>\n",
              "      <td>0.076083</td>\n",
              "    </tr>\n",
              "    <tr>\n",
              "      <th>felt</th>\n",
              "      <td>0.076083</td>\n",
              "    </tr>\n",
              "  </tbody>\n",
              "</table>\n",
              "</div>"
            ],
            "text/plain": [
              "          sum_scores_TFIDF\n",
              "gripe             0.076083\n",
              "grandkid          0.076083\n",
              "old               0.076083\n",
              "cow               0.076083\n",
              "felt              0.076083"
            ]
          },
          "metadata": {
            "tags": []
          },
          "execution_count": 42
        }
      ]
    },
    {
      "metadata": {
        "id": "jkWoxhXDQhmw",
        "colab_type": "code",
        "outputId": "4f1bef19-e7f0-4144-d459-493ac6e97a0a",
        "colab": {
          "base_uri": "https://localhost:8080/",
          "height": 202
        }
      },
      "cell_type": "code",
      "source": [
        "#high usage of words in reviews\n",
        "sum_scores.sort_values(by='sum_scores_TFIDF',ascending=False)[:5]"
      ],
      "execution_count": 0,
      "outputs": [
        {
          "output_type": "execute_result",
          "data": {
            "text/html": [
              "<div>\n",
              "<style scoped>\n",
              "    .dataframe tbody tr th:only-of-type {\n",
              "        vertical-align: middle;\n",
              "    }\n",
              "\n",
              "    .dataframe tbody tr th {\n",
              "        vertical-align: top;\n",
              "    }\n",
              "\n",
              "    .dataframe thead th {\n",
              "        text-align: right;\n",
              "    }\n",
              "</style>\n",
              "<table border=\"1\" class=\"dataframe\">\n",
              "  <thead>\n",
              "    <tr style=\"text-align: right;\">\n",
              "      <th></th>\n",
              "      <th>sum_scores_TFIDF</th>\n",
              "    </tr>\n",
              "  </thead>\n",
              "  <tbody>\n",
              "    <tr>\n",
              "      <th>fool</th>\n",
              "      <td>217.397630</td>\n",
              "    </tr>\n",
              "    <tr>\n",
              "      <th>summer</th>\n",
              "      <td>209.501804</td>\n",
              "    </tr>\n",
              "    <tr>\n",
              "      <th>matt</th>\n",
              "      <td>198.910788</td>\n",
              "    </tr>\n",
              "    <tr>\n",
              "      <th>lighter</th>\n",
              "      <td>181.218969</td>\n",
              "    </tr>\n",
              "    <tr>\n",
              "      <th>purs</th>\n",
              "      <td>147.851506</td>\n",
              "    </tr>\n",
              "  </tbody>\n",
              "</table>\n",
              "</div>"
            ],
            "text/plain": [
              "         sum_scores_TFIDF\n",
              "fool           217.397630\n",
              "summer         209.501804\n",
              "matt           198.910788\n",
              "lighter        181.218969\n",
              "purs           147.851506"
            ]
          },
          "metadata": {
            "tags": []
          },
          "execution_count": 43
        }
      ]
    },
    {
      "metadata": {
        "id": "GXsRSDr9QlWY",
        "colab_type": "text"
      },
      "cell_type": "markdown",
      "source": [
        "Lets build features on our data"
      ]
    },
    {
      "metadata": {
        "id": "bmskXLTJQjYb",
        "colab_type": "code",
        "outputId": "eb1f1dd9-976b-487b-a024-4fcd416e6797",
        "colab": {
          "base_uri": "https://localhost:8080/",
          "height": 271
        }
      },
      "cell_type": "code",
      "source": [
        "pd.set_option('display.max_colwidth', 0)\n",
        "comments.head()"
      ],
      "execution_count": 0,
      "outputs": [
        {
          "output_type": "execute_result",
          "data": {
            "text/html": [
              "<div>\n",
              "<style scoped>\n",
              "    .dataframe tbody tr th:only-of-type {\n",
              "        vertical-align: middle;\n",
              "    }\n",
              "\n",
              "    .dataframe tbody tr th {\n",
              "        vertical-align: top;\n",
              "    }\n",
              "\n",
              "    .dataframe thead th {\n",
              "        text-align: right;\n",
              "    }\n",
              "</style>\n",
              "<table border=\"1\" class=\"dataframe\">\n",
              "  <thead>\n",
              "    <tr style=\"text-align: right;\">\n",
              "      <th></th>\n",
              "      <th>text</th>\n",
              "      <th>rating</th>\n",
              "      <th>recommend</th>\n",
              "    </tr>\n",
              "  </thead>\n",
              "  <tbody>\n",
              "    <tr>\n",
              "      <th>17214</th>\n",
              "      <td>Its a nice little set up but it's slow. I wish I would have investigated them a little more before just jumping in.. I like it but....</td>\n",
              "      <td>3.0</td>\n",
              "      <td>True</td>\n",
              "    </tr>\n",
              "    <tr>\n",
              "      <th>17215</th>\n",
              "      <td>As long as apps are downloaded before leaving WIFI they work great for road trips or hunting trips!. Great for road trips!</td>\n",
              "      <td>5.0</td>\n",
              "      <td>True</td>\n",
              "    </tr>\n",
              "    <tr>\n",
              "      <th>17216</th>\n",
              "      <td>Was a gift for our 8 year old daughter. Great for kids. Great for kids</td>\n",
              "      <td>5.0</td>\n",
              "      <td>True</td>\n",
              "    </tr>\n",
              "    <tr>\n",
              "      <th>17217</th>\n",
              "      <td>my grandkids love it. This is the 3 one we bought.. kids love it</td>\n",
              "      <td>5.0</td>\n",
              "      <td>True</td>\n",
              "    </tr>\n",
              "    <tr>\n",
              "      <th>17218</th>\n",
              "      <td>Great case ok tablet no Android play store. Weak micro usb port. It's isn't an straight out the box tablet. Had to install Android play store on it. And as far as the charging port goes I'm on my 3rd one but best buy are the best with their return policy.... Tablet not for kids</td>\n",
              "      <td>3.0</td>\n",
              "      <td>True</td>\n",
              "    </tr>\n",
              "  </tbody>\n",
              "</table>\n",
              "</div>"
            ],
            "text/plain": [
              "                                                                                                                                                                                                                                                                                         text  \\\n",
              "17214  Its a nice little set up but it's slow. I wish I would have investigated them a little more before just jumping in.. I like it but....                                                                                                                                                   \n",
              "17215  As long as apps are downloaded before leaving WIFI they work great for road trips or hunting trips!. Great for road trips!                                                                                                                                                               \n",
              "17216  Was a gift for our 8 year old daughter. Great for kids. Great for kids                                                                                                                                                                                                                   \n",
              "17217  my grandkids love it. This is the 3 one we bought.. kids love it                                                                                                                                                                                                                         \n",
              "17218  Great case ok tablet no Android play store. Weak micro usb port. It's isn't an straight out the box tablet. Had to install Android play store on it. And as far as the charging port goes I'm on my 3rd one but best buy are the best with their return policy.... Tablet not for kids   \n",
              "\n",
              "       rating recommend  \n",
              "17214  3.0     True      \n",
              "17215  5.0     True      \n",
              "17216  5.0     True      \n",
              "17217  5.0     True      \n",
              "17218  3.0     True      "
            ]
          },
          "metadata": {
            "tags": []
          },
          "execution_count": 44
        }
      ]
    },
    {
      "metadata": {
        "id": "zmyq3tUvQqBY",
        "colab_type": "text"
      },
      "cell_type": "markdown",
      "source": [
        "**What is sentiment analysis ? No idea ?** Read the next code block"
      ]
    },
    {
      "metadata": {
        "id": "4_I8PQ-IQnfP",
        "colab_type": "code",
        "outputId": "4e745c62-cd36-4081-81dd-d9d970ae6841",
        "colab": {
          "base_uri": "https://localhost:8080/",
          "height": 159
        }
      },
      "cell_type": "code",
      "source": [
        "import nltk\n",
        "nltk.download('vader_lexicon')\n",
        "\n",
        "from nltk.sentiment.vader import SentimentIntensityAnalyzer\n",
        "sid = SentimentIntensityAnalyzer()\n",
        "\n",
        "happy = \"I am Happy. this is so awesome. I love life. I will be in heaven\"\n",
        "#when you find free food in university\n",
        "print(\"happy \" + str(sid.polarity_scores(text)))\n",
        "\n",
        "\n",
        "sad = \"i hate this. I am mad this is stupid. I will kill you\"\n",
        "#when your professor gives you a ZERO in assignment\n",
        "print(\"sad \" + str(sid.polarity_scores(sad)))\n",
        "\n",
        "neut = \"I will come. You should go. This is blue color\"\n",
        "#when you state facts and nothing else\n",
        "print(\"dont care - \" + str(sid.polarity_scores(neut)))\n",
        "\n",
        "srishti = \"money\"\n",
        "print(\"dss - \" + str(sid.polarity_scores(srishti)))"
      ],
      "execution_count": 0,
      "outputs": [
        {
          "output_type": "stream",
          "text": [
            "[nltk_data] Downloading package vader_lexicon to /root/nltk_data...\n",
            "happy {'neg': 0.0, 'neu': 0.483, 'pos': 0.517, 'compound': 0.9522}\n",
            "sad {'neg': 0.714, 'neu': 0.286, 'pos': 0.0, 'compound': -0.9432}\n",
            "dont care - {'neg': 0.0, 'neu': 1.0, 'pos': 0.0, 'compound': 0.0}\n",
            "dss - {'neg': 0.0, 'neu': 1.0, 'pos': 0.0, 'compound': 0.0}\n"
          ],
          "name": "stdout"
        },
        {
          "output_type": "stream",
          "text": [
            "/usr/local/lib/python3.6/dist-packages/nltk/twitter/__init__.py:20: UserWarning: The twython library has not been installed. Some functionality from the twitter package will not be available.\n",
            "  warnings.warn(\"The twython library has not been installed. \"\n"
          ],
          "name": "stderr"
        }
      ]
    },
    {
      "metadata": {
        "id": "H7_IL-kKQ6uP",
        "colab_type": "text"
      },
      "cell_type": "markdown",
      "source": [
        "Understand the output\n",
        "- sid.polarity is a dictionary\n",
        "- pos and neg indicates - positive and negative emotions in sentence\n",
        "- we should be interested in compund score which calculates the final effect"
      ]
    },
    {
      "metadata": {
        "id": "aPq7v_AsQvXJ",
        "colab_type": "code",
        "colab": {}
      },
      "cell_type": "code",
      "source": [
        "# Feature 1 : Sentiment compound value\n",
        "def sentiment(x):\n",
        "    score = sid.polarity_scores(x)\n",
        "    return score['compound']\n",
        "    \n",
        "#sentiment(happy)\n",
        "comments['sentiment']= comments['text'].apply(lambda x : sentiment(x))"
      ],
      "execution_count": 0,
      "outputs": []
    },
    {
      "metadata": {
        "id": "RBuX6bLMRCDo",
        "colab_type": "code",
        "outputId": "70896ef9-9bdb-464c-c247-376c07957b89",
        "colab": {
          "base_uri": "https://localhost:8080/",
          "height": 393
        }
      },
      "cell_type": "code",
      "source": [
        "# Feature 2 : Length of string\n",
        "\n",
        "comments['length'] = comments['text'].apply(lambda x : len(re.split('\\W+',x)))\n",
        "comments[comments['rating']==5].head(10)\n",
        "\n",
        "# before we proceed - we need to convert all true >> 1 and false as 0\n",
        "def convert(x):\n",
        "    \n",
        "    if x==True:\n",
        "        return 1\n",
        "    else :\n",
        "        return 0\n",
        "    \n",
        "print(convert(\"False\"))\n",
        "\n",
        "comments['target_rec'] = comments['recommend'].apply(lambda x : convert(x))\n",
        "comments.head(5)"
      ],
      "execution_count": 0,
      "outputs": [
        {
          "output_type": "stream",
          "text": [
            "0\n"
          ],
          "name": "stdout"
        },
        {
          "output_type": "execute_result",
          "data": {
            "text/html": [
              "<div>\n",
              "<style scoped>\n",
              "    .dataframe tbody tr th:only-of-type {\n",
              "        vertical-align: middle;\n",
              "    }\n",
              "\n",
              "    .dataframe tbody tr th {\n",
              "        vertical-align: top;\n",
              "    }\n",
              "\n",
              "    .dataframe thead th {\n",
              "        text-align: right;\n",
              "    }\n",
              "</style>\n",
              "<table border=\"1\" class=\"dataframe\">\n",
              "  <thead>\n",
              "    <tr style=\"text-align: right;\">\n",
              "      <th></th>\n",
              "      <th>text</th>\n",
              "      <th>rating</th>\n",
              "      <th>recommend</th>\n",
              "      <th>sentiment</th>\n",
              "      <th>length</th>\n",
              "      <th>target_rec</th>\n",
              "    </tr>\n",
              "  </thead>\n",
              "  <tbody>\n",
              "    <tr>\n",
              "      <th>17214</th>\n",
              "      <td>Its a nice little set up but it's slow. I wish I would have investigated them a little more before just jumping in.. I like it but....</td>\n",
              "      <td>3.0</td>\n",
              "      <td>True</td>\n",
              "      <td>0.8271</td>\n",
              "      <td>29</td>\n",
              "      <td>1</td>\n",
              "    </tr>\n",
              "    <tr>\n",
              "      <th>17215</th>\n",
              "      <td>As long as apps are downloaded before leaving WIFI they work great for road trips or hunting trips!. Great for road trips!</td>\n",
              "      <td>5.0</td>\n",
              "      <td>True</td>\n",
              "      <td>0.8684</td>\n",
              "      <td>23</td>\n",
              "      <td>1</td>\n",
              "    </tr>\n",
              "    <tr>\n",
              "      <th>17216</th>\n",
              "      <td>Was a gift for our 8 year old daughter. Great for kids. Great for kids</td>\n",
              "      <td>5.0</td>\n",
              "      <td>True</td>\n",
              "      <td>0.9022</td>\n",
              "      <td>15</td>\n",
              "      <td>1</td>\n",
              "    </tr>\n",
              "    <tr>\n",
              "      <th>17217</th>\n",
              "      <td>my grandkids love it. This is the 3 one we bought.. kids love it</td>\n",
              "      <td>5.0</td>\n",
              "      <td>True</td>\n",
              "      <td>0.8555</td>\n",
              "      <td>14</td>\n",
              "      <td>1</td>\n",
              "    </tr>\n",
              "    <tr>\n",
              "      <th>17218</th>\n",
              "      <td>Great case ok tablet no Android play store. Weak micro usb port. It's isn't an straight out the box tablet. Had to install Android play store on it. And as far as the charging port goes I'm on my 3rd one but best buy are the best with their return policy.... Tablet not for kids</td>\n",
              "      <td>3.0</td>\n",
              "      <td>True</td>\n",
              "      <td>0.9457</td>\n",
              "      <td>58</td>\n",
              "      <td>1</td>\n",
              "    </tr>\n",
              "  </tbody>\n",
              "</table>\n",
              "</div>"
            ],
            "text/plain": [
              "                                                                                                                                                                                                                                                                                         text  \\\n",
              "17214  Its a nice little set up but it's slow. I wish I would have investigated them a little more before just jumping in.. I like it but....                                                                                                                                                   \n",
              "17215  As long as apps are downloaded before leaving WIFI they work great for road trips or hunting trips!. Great for road trips!                                                                                                                                                               \n",
              "17216  Was a gift for our 8 year old daughter. Great for kids. Great for kids                                                                                                                                                                                                                   \n",
              "17217  my grandkids love it. This is the 3 one we bought.. kids love it                                                                                                                                                                                                                         \n",
              "17218  Great case ok tablet no Android play store. Weak micro usb port. It's isn't an straight out the box tablet. Had to install Android play store on it. And as far as the charging port goes I'm on my 3rd one but best buy are the best with their return policy.... Tablet not for kids   \n",
              "\n",
              "       rating recommend  sentiment  length  target_rec  \n",
              "17214  3.0     True      0.8271     29      1           \n",
              "17215  5.0     True      0.8684     23      1           \n",
              "17216  5.0     True      0.9022     15      1           \n",
              "17217  5.0     True      0.8555     14      1           \n",
              "17218  3.0     True      0.9457     58      1           "
            ]
          },
          "metadata": {
            "tags": []
          },
          "execution_count": 47
        }
      ]
    },
    {
      "metadata": {
        "id": "eDDpKZkFREZe",
        "colab_type": "code",
        "outputId": "a8b73bb8-578b-4966-ff35-535a7ef8f636",
        "colab": {
          "base_uri": "https://localhost:8080/",
          "height": 410
        }
      },
      "cell_type": "code",
      "source": [
        "comments[comments['rating']==1].head(5)"
      ],
      "execution_count": 0,
      "outputs": [
        {
          "output_type": "execute_result",
          "data": {
            "text/html": [
              "<div>\n",
              "<style scoped>\n",
              "    .dataframe tbody tr th:only-of-type {\n",
              "        vertical-align: middle;\n",
              "    }\n",
              "\n",
              "    .dataframe tbody tr th {\n",
              "        vertical-align: top;\n",
              "    }\n",
              "\n",
              "    .dataframe thead th {\n",
              "        text-align: right;\n",
              "    }\n",
              "</style>\n",
              "<table border=\"1\" class=\"dataframe\">\n",
              "  <thead>\n",
              "    <tr style=\"text-align: right;\">\n",
              "      <th></th>\n",
              "      <th>text</th>\n",
              "      <th>rating</th>\n",
              "      <th>recommend</th>\n",
              "      <th>sentiment</th>\n",
              "      <th>length</th>\n",
              "      <th>target_rec</th>\n",
              "    </tr>\n",
              "  </thead>\n",
              "  <tbody>\n",
              "    <tr>\n",
              "      <th>17220</th>\n",
              "      <td>This product wouldn't turn on nor charge and then store couldn't locate another one for me.. Product Issues</td>\n",
              "      <td>1.0</td>\n",
              "      <td>False</td>\n",
              "      <td>0.0000</td>\n",
              "      <td>20</td>\n",
              "      <td>0</td>\n",
              "    </tr>\n",
              "    <tr>\n",
              "      <th>17423</th>\n",
              "      <td>Would not take a charge, good thing i tried before wrapping it for Christmas.. Had to return this on Christmas eve day</td>\n",
              "      <td>1.0</td>\n",
              "      <td>False</td>\n",
              "      <td>-0.3412</td>\n",
              "      <td>22</td>\n",
              "      <td>0</td>\n",
              "    </tr>\n",
              "    <tr>\n",
              "      <th>17443</th>\n",
              "      <td>I didon't care for this tablet, downloading apps outside of Amazon was really confusing.. Don't like...too hard to download other apps</td>\n",
              "      <td>1.0</td>\n",
              "      <td>False</td>\n",
              "      <td>-0.1611</td>\n",
              "      <td>24</td>\n",
              "      <td>0</td>\n",
              "    </tr>\n",
              "    <tr>\n",
              "      <th>17729</th>\n",
              "      <td>I am really disappointed in this Kindle....I have had many kindles, but I wanted somwthing I thoughtnwould be simple. This kindle doesn't show all my books that are in my cloud..it doesn't matter that they aren't in my device but they should still show up in my cloud...I have to go to my amazon account and transfer the book I want to my device.. Great for someone who doesn't have alot of books</td>\n",
              "      <td>1.0</td>\n",
              "      <td>False</td>\n",
              "      <td>0.7809</td>\n",
              "      <td>80</td>\n",
              "      <td>0</td>\n",
              "    </tr>\n",
              "    <tr>\n",
              "      <th>17887</th>\n",
              "      <td>Paper white does not allow you do use books from the library as you cannot load apps. Only books from Amazon are available to read.. Unable to access library</td>\n",
              "      <td>1.0</td>\n",
              "      <td>False</td>\n",
              "      <td>0.0088</td>\n",
              "      <td>29</td>\n",
              "      <td>0</td>\n",
              "    </tr>\n",
              "  </tbody>\n",
              "</table>\n",
              "</div>"
            ],
            "text/plain": [
              "                                                                                                                                                                                                                                                                                                                                                                                                               text  \\\n",
              "17220  This product wouldn't turn on nor charge and then store couldn't locate another one for me.. Product Issues                                                                                                                                                                                                                                                                                                    \n",
              "17423  Would not take a charge, good thing i tried before wrapping it for Christmas.. Had to return this on Christmas eve day                                                                                                                                                                                                                                                                                         \n",
              "17443  I didon't care for this tablet, downloading apps outside of Amazon was really confusing.. Don't like...too hard to download other apps                                                                                                                                                                                                                                                                         \n",
              "17729  I am really disappointed in this Kindle....I have had many kindles, but I wanted somwthing I thoughtnwould be simple. This kindle doesn't show all my books that are in my cloud..it doesn't matter that they aren't in my device but they should still show up in my cloud...I have to go to my amazon account and transfer the book I want to my device.. Great for someone who doesn't have alot of books   \n",
              "17887  Paper white does not allow you do use books from the library as you cannot load apps. Only books from Amazon are available to read.. Unable to access library                                                                                                                                                                                                                                                  \n",
              "\n",
              "       rating recommend  sentiment  length  target_rec  \n",
              "17220  1.0     False     0.0000     20      0           \n",
              "17423  1.0     False    -0.3412     22      0           \n",
              "17443  1.0     False    -0.1611     24      0           \n",
              "17729  1.0     False     0.7809     80      0           \n",
              "17887  1.0     False     0.0088     29      0           "
            ]
          },
          "metadata": {
            "tags": []
          },
          "execution_count": 48
        }
      ]
    },
    {
      "metadata": {
        "id": "q9DGve40RJek",
        "colab_type": "text"
      },
      "cell_type": "markdown",
      "source": [
        "Lets predict recommendation !"
      ]
    },
    {
      "metadata": {
        "id": "g5I97gVSRGWd",
        "colab_type": "code",
        "outputId": "b2d9053d-20d2-49f4-f7a5-7f8f2629df38",
        "colab": {
          "base_uri": "https://localhost:8080/",
          "height": 185
        }
      },
      "cell_type": "code",
      "source": [
        "from sklearn.ensemble import RandomForestClassifier\n",
        "from sklearn.metrics import precision_recall_fscore_support as score\n",
        "from sklearn.model_selection import train_test_split\n",
        "\n",
        "# need to reset index of the comments column to match with textfeatures\n",
        "new_sentiment = comments.sentiment.reset_index()['sentiment']\n",
        "new_length = comments.length.reset_index()['length']\n",
        "\n",
        "x_features = pd.concat([new_sentiment,new_length,\n",
        "                        pd.DataFrame(textfeatures.toarray(),\n",
        "                        columns=vectstem.vocabulary_)],axis=1)\n",
        "x_train, x_test, y_train, y_test = train_test_split(x_features,comments.target_rec,test_size=0.2)\n",
        "\n",
        "rf = RandomForestClassifier(n_jobs=-1,n_estimators=50,max_depth=90)\n",
        "rfmodel=rf.fit(x_train,y_train)\n",
        "\n",
        "y_pred = rfmodel.predict(x_test)\n",
        "sorted(zip(rfmodel.feature_importances_,x_train.columns),reverse=True)[0:10]"
      ],
      "execution_count": 0,
      "outputs": [
        {
          "output_type": "execute_result",
          "data": {
            "text/plain": [
              "[(0.036093537570520126, 'sentiment'),\n",
              " (0.014261298528726499, 'length'),\n",
              " (0.012020343713594546, 'exterior'),\n",
              " (0.011333935251278888, 'cool'),\n",
              " (0.011137091239177426, 'effici'),\n",
              " (0.010921567629255342, 'reader3'),\n",
              " (0.010095895090947143, 'doesnot'),\n",
              " (0.009732662874621201, 'shot'),\n",
              " (0.009428197758088033, 'lineup'),\n",
              " (0.009230612341880894, 'seam')]"
            ]
          },
          "metadata": {
            "tags": []
          },
          "execution_count": 80
        }
      ]
    },
    {
      "metadata": {
        "id": "pVyQAt7HRLtx",
        "colab_type": "code",
        "outputId": "fce77a7f-4765-4e9c-b77f-f3bf23388f86",
        "colab": {
          "base_uri": "https://localhost:8080/",
          "height": 34
        }
      },
      "cell_type": "code",
      "source": [
        "precision, recall, fscore , support = score(y_test,y_pred,average='binary')\n",
        "print('Precision: {} / Recall :{} / Accuracy {} '.format(round(precision,3),\n",
        "                                                         round(recall,3),\n",
        "                                                         round((y_pred==y_test).sum()/len(y_test),3)))"
      ],
      "execution_count": 0,
      "outputs": [
        {
          "output_type": "stream",
          "text": [
            "Precision: 0.973 / Recall :1.0 / Accuracy 0.973 \n"
          ],
          "name": "stdout"
        }
      ]
    },
    {
      "metadata": {
        "id": "fmP0TDYqROOM",
        "colab_type": "code",
        "colab": {}
      },
      "cell_type": "code",
      "source": [
        ""
      ],
      "execution_count": 0,
      "outputs": []
    }
  ]
}